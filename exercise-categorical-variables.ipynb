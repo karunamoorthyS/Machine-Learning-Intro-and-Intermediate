{
 "cells": [
  {
   "cell_type": "markdown",
   "id": "c52c81fd",
   "metadata": {
    "papermill": {
     "duration": 0.032194,
     "end_time": "2022-01-30T04:20:45.323211",
     "exception": false,
     "start_time": "2022-01-30T04:20:45.291017",
     "status": "completed"
    },
    "tags": []
   },
   "source": [
    "**This notebook is an exercise in the [Intermediate Machine Learning](https://www.kaggle.com/learn/intermediate-machine-learning) course.  You can reference the tutorial at [this link](https://www.kaggle.com/alexisbcook/categorical-variables).**\n",
    "\n",
    "---\n"
   ]
  },
  {
   "cell_type": "markdown",
   "id": "2e3c2889",
   "metadata": {
    "papermill": {
     "duration": 0.029865,
     "end_time": "2022-01-30T04:20:45.383907",
     "exception": false,
     "start_time": "2022-01-30T04:20:45.354042",
     "status": "completed"
    },
    "tags": []
   },
   "source": [
    "By encoding **categorical variables**, you'll obtain your best results thus far!\n",
    "\n",
    "# Setup\n",
    "\n",
    "The questions below will give you feedback on your work. Run the following cell to set up the feedback system."
   ]
  },
  {
   "cell_type": "code",
   "execution_count": 1,
   "id": "e021c2d7",
   "metadata": {
    "execution": {
     "iopub.execute_input": "2022-01-30T04:20:45.451446Z",
     "iopub.status.busy": "2022-01-30T04:20:45.450192Z",
     "iopub.status.idle": "2022-01-30T04:20:45.508155Z",
     "shell.execute_reply": "2022-01-30T04:20:45.508923Z",
     "shell.execute_reply.started": "2022-01-30T04:19:48.787397Z"
    },
    "papermill": {
     "duration": 0.095191,
     "end_time": "2022-01-30T04:20:45.509275",
     "exception": false,
     "start_time": "2022-01-30T04:20:45.414084",
     "status": "completed"
    },
    "tags": []
   },
   "outputs": [
    {
     "name": "stdout",
     "output_type": "stream",
     "text": [
      "Setup Complete\n"
     ]
    }
   ],
   "source": [
    "# Set up code checking\n",
    "import os\n",
    "if not os.path.exists(\"../input/train.csv\"):\n",
    "    os.symlink(\"../input/home-data-for-ml-course/train.csv\", \"../input/train.csv\")  \n",
    "    os.symlink(\"../input/home-data-for-ml-course/test.csv\", \"../input/test.csv\") \n",
    "from learntools.core import binder\n",
    "binder.bind(globals())\n",
    "from learntools.ml_intermediate.ex3 import *\n",
    "print(\"Setup Complete\")"
   ]
  },
  {
   "cell_type": "markdown",
   "id": "87c09e04",
   "metadata": {
    "papermill": {
     "duration": 0.030255,
     "end_time": "2022-01-30T04:20:45.571753",
     "exception": false,
     "start_time": "2022-01-30T04:20:45.541498",
     "status": "completed"
    },
    "tags": []
   },
   "source": [
    "In this exercise, you will work with data from the [Housing Prices Competition for Kaggle Learn Users](https://www.kaggle.com/c/home-data-for-ml-course). \n",
    "\n",
    "![Ames Housing dataset image](https://i.imgur.com/lTJVG4e.png)\n",
    "\n",
    "Run the next code cell without changes to load the training and validation sets in `X_train`, `X_valid`, `y_train`, and `y_valid`.  The test set is loaded in `X_test`."
   ]
  },
  {
   "cell_type": "code",
   "execution_count": 2,
   "id": "447727e2",
   "metadata": {
    "execution": {
     "iopub.execute_input": "2022-01-30T04:20:45.641551Z",
     "iopub.status.busy": "2022-01-30T04:20:45.635553Z",
     "iopub.status.idle": "2022-01-30T04:20:46.923515Z",
     "shell.execute_reply": "2022-01-30T04:20:46.922401Z",
     "shell.execute_reply.started": "2022-01-30T04:19:48.865670Z"
    },
    "papermill": {
     "duration": 1.321446,
     "end_time": "2022-01-30T04:20:46.923681",
     "exception": false,
     "start_time": "2022-01-30T04:20:45.602235",
     "status": "completed"
    },
    "tags": []
   },
   "outputs": [],
   "source": [
    "import pandas as pd\n",
    "from sklearn.model_selection import train_test_split\n",
    "\n",
    "# Read the data\n",
    "X = pd.read_csv('../input/train.csv', index_col='Id') \n",
    "X_test = pd.read_csv('../input/test.csv', index_col='Id')\n",
    "\n",
    "# Remove rows with missing target, separate target from predictors\n",
    "X.dropna(axis=0, subset=['SalePrice'], inplace=True)\n",
    "y = X.SalePrice\n",
    "X.drop(['SalePrice'], axis=1, inplace=True)\n",
    "\n",
    "# To keep things simple, we'll drop columns with missing values\n",
    "cols_with_missing = [col for col in X.columns if X[col].isnull().any()] \n",
    "X.drop(cols_with_missing, axis=1, inplace=True)\n",
    "X_test.drop(cols_with_missing, axis=1, inplace=True)\n",
    "\n",
    "# Break off validation set from training data\n",
    "X_train, X_valid, y_train, y_valid = train_test_split(X, y,\n",
    "                                                      train_size=0.8, test_size=0.2,\n",
    "                                                      random_state=0)"
   ]
  },
  {
   "cell_type": "markdown",
   "id": "23b2497c",
   "metadata": {
    "papermill": {
     "duration": 0.031472,
     "end_time": "2022-01-30T04:20:46.989904",
     "exception": false,
     "start_time": "2022-01-30T04:20:46.958432",
     "status": "completed"
    },
    "tags": []
   },
   "source": [
    "Use the next code cell to print the first five rows of the data."
   ]
  },
  {
   "cell_type": "code",
   "execution_count": 3,
   "id": "da873ed2",
   "metadata": {
    "execution": {
     "iopub.execute_input": "2022-01-30T04:20:47.061852Z",
     "iopub.status.busy": "2022-01-30T04:20:47.061134Z",
     "iopub.status.idle": "2022-01-30T04:20:47.083858Z",
     "shell.execute_reply": "2022-01-30T04:20:47.084402Z",
     "shell.execute_reply.started": "2022-01-30T04:19:50.166166Z"
    },
    "papermill": {
     "duration": 0.063188,
     "end_time": "2022-01-30T04:20:47.084568",
     "exception": false,
     "start_time": "2022-01-30T04:20:47.021380",
     "status": "completed"
    },
    "tags": []
   },
   "outputs": [
    {
     "data": {
      "text/html": [
       "<div>\n",
       "<style scoped>\n",
       "    .dataframe tbody tr th:only-of-type {\n",
       "        vertical-align: middle;\n",
       "    }\n",
       "\n",
       "    .dataframe tbody tr th {\n",
       "        vertical-align: top;\n",
       "    }\n",
       "\n",
       "    .dataframe thead th {\n",
       "        text-align: right;\n",
       "    }\n",
       "</style>\n",
       "<table border=\"1\" class=\"dataframe\">\n",
       "  <thead>\n",
       "    <tr style=\"text-align: right;\">\n",
       "      <th></th>\n",
       "      <th>MSSubClass</th>\n",
       "      <th>MSZoning</th>\n",
       "      <th>LotArea</th>\n",
       "      <th>Street</th>\n",
       "      <th>LotShape</th>\n",
       "      <th>LandContour</th>\n",
       "      <th>Utilities</th>\n",
       "      <th>LotConfig</th>\n",
       "      <th>LandSlope</th>\n",
       "      <th>Neighborhood</th>\n",
       "      <th>...</th>\n",
       "      <th>OpenPorchSF</th>\n",
       "      <th>EnclosedPorch</th>\n",
       "      <th>3SsnPorch</th>\n",
       "      <th>ScreenPorch</th>\n",
       "      <th>PoolArea</th>\n",
       "      <th>MiscVal</th>\n",
       "      <th>MoSold</th>\n",
       "      <th>YrSold</th>\n",
       "      <th>SaleType</th>\n",
       "      <th>SaleCondition</th>\n",
       "    </tr>\n",
       "    <tr>\n",
       "      <th>Id</th>\n",
       "      <th></th>\n",
       "      <th></th>\n",
       "      <th></th>\n",
       "      <th></th>\n",
       "      <th></th>\n",
       "      <th></th>\n",
       "      <th></th>\n",
       "      <th></th>\n",
       "      <th></th>\n",
       "      <th></th>\n",
       "      <th></th>\n",
       "      <th></th>\n",
       "      <th></th>\n",
       "      <th></th>\n",
       "      <th></th>\n",
       "      <th></th>\n",
       "      <th></th>\n",
       "      <th></th>\n",
       "      <th></th>\n",
       "      <th></th>\n",
       "      <th></th>\n",
       "    </tr>\n",
       "  </thead>\n",
       "  <tbody>\n",
       "    <tr>\n",
       "      <th>619</th>\n",
       "      <td>20</td>\n",
       "      <td>RL</td>\n",
       "      <td>11694</td>\n",
       "      <td>Pave</td>\n",
       "      <td>Reg</td>\n",
       "      <td>Lvl</td>\n",
       "      <td>AllPub</td>\n",
       "      <td>Inside</td>\n",
       "      <td>Gtl</td>\n",
       "      <td>NridgHt</td>\n",
       "      <td>...</td>\n",
       "      <td>108</td>\n",
       "      <td>0</td>\n",
       "      <td>0</td>\n",
       "      <td>260</td>\n",
       "      <td>0</td>\n",
       "      <td>0</td>\n",
       "      <td>7</td>\n",
       "      <td>2007</td>\n",
       "      <td>New</td>\n",
       "      <td>Partial</td>\n",
       "    </tr>\n",
       "    <tr>\n",
       "      <th>871</th>\n",
       "      <td>20</td>\n",
       "      <td>RL</td>\n",
       "      <td>6600</td>\n",
       "      <td>Pave</td>\n",
       "      <td>Reg</td>\n",
       "      <td>Lvl</td>\n",
       "      <td>AllPub</td>\n",
       "      <td>Inside</td>\n",
       "      <td>Gtl</td>\n",
       "      <td>NAmes</td>\n",
       "      <td>...</td>\n",
       "      <td>0</td>\n",
       "      <td>0</td>\n",
       "      <td>0</td>\n",
       "      <td>0</td>\n",
       "      <td>0</td>\n",
       "      <td>0</td>\n",
       "      <td>8</td>\n",
       "      <td>2009</td>\n",
       "      <td>WD</td>\n",
       "      <td>Normal</td>\n",
       "    </tr>\n",
       "    <tr>\n",
       "      <th>93</th>\n",
       "      <td>30</td>\n",
       "      <td>RL</td>\n",
       "      <td>13360</td>\n",
       "      <td>Pave</td>\n",
       "      <td>IR1</td>\n",
       "      <td>HLS</td>\n",
       "      <td>AllPub</td>\n",
       "      <td>Inside</td>\n",
       "      <td>Gtl</td>\n",
       "      <td>Crawfor</td>\n",
       "      <td>...</td>\n",
       "      <td>0</td>\n",
       "      <td>44</td>\n",
       "      <td>0</td>\n",
       "      <td>0</td>\n",
       "      <td>0</td>\n",
       "      <td>0</td>\n",
       "      <td>8</td>\n",
       "      <td>2009</td>\n",
       "      <td>WD</td>\n",
       "      <td>Normal</td>\n",
       "    </tr>\n",
       "    <tr>\n",
       "      <th>818</th>\n",
       "      <td>20</td>\n",
       "      <td>RL</td>\n",
       "      <td>13265</td>\n",
       "      <td>Pave</td>\n",
       "      <td>IR1</td>\n",
       "      <td>Lvl</td>\n",
       "      <td>AllPub</td>\n",
       "      <td>CulDSac</td>\n",
       "      <td>Gtl</td>\n",
       "      <td>Mitchel</td>\n",
       "      <td>...</td>\n",
       "      <td>59</td>\n",
       "      <td>0</td>\n",
       "      <td>0</td>\n",
       "      <td>0</td>\n",
       "      <td>0</td>\n",
       "      <td>0</td>\n",
       "      <td>7</td>\n",
       "      <td>2008</td>\n",
       "      <td>WD</td>\n",
       "      <td>Normal</td>\n",
       "    </tr>\n",
       "    <tr>\n",
       "      <th>303</th>\n",
       "      <td>20</td>\n",
       "      <td>RL</td>\n",
       "      <td>13704</td>\n",
       "      <td>Pave</td>\n",
       "      <td>IR1</td>\n",
       "      <td>Lvl</td>\n",
       "      <td>AllPub</td>\n",
       "      <td>Corner</td>\n",
       "      <td>Gtl</td>\n",
       "      <td>CollgCr</td>\n",
       "      <td>...</td>\n",
       "      <td>81</td>\n",
       "      <td>0</td>\n",
       "      <td>0</td>\n",
       "      <td>0</td>\n",
       "      <td>0</td>\n",
       "      <td>0</td>\n",
       "      <td>1</td>\n",
       "      <td>2006</td>\n",
       "      <td>WD</td>\n",
       "      <td>Normal</td>\n",
       "    </tr>\n",
       "  </tbody>\n",
       "</table>\n",
       "<p>5 rows × 60 columns</p>\n",
       "</div>"
      ],
      "text/plain": [
       "     MSSubClass MSZoning  LotArea Street LotShape LandContour Utilities  \\\n",
       "Id                                                                        \n",
       "619          20       RL    11694   Pave      Reg         Lvl    AllPub   \n",
       "871          20       RL     6600   Pave      Reg         Lvl    AllPub   \n",
       "93           30       RL    13360   Pave      IR1         HLS    AllPub   \n",
       "818          20       RL    13265   Pave      IR1         Lvl    AllPub   \n",
       "303          20       RL    13704   Pave      IR1         Lvl    AllPub   \n",
       "\n",
       "    LotConfig LandSlope Neighborhood  ... OpenPorchSF EnclosedPorch 3SsnPorch  \\\n",
       "Id                                    ...                                       \n",
       "619    Inside       Gtl      NridgHt  ...         108             0         0   \n",
       "871    Inside       Gtl        NAmes  ...           0             0         0   \n",
       "93     Inside       Gtl      Crawfor  ...           0            44         0   \n",
       "818   CulDSac       Gtl      Mitchel  ...          59             0         0   \n",
       "303    Corner       Gtl      CollgCr  ...          81             0         0   \n",
       "\n",
       "    ScreenPorch  PoolArea  MiscVal  MoSold  YrSold SaleType SaleCondition  \n",
       "Id                                                                         \n",
       "619         260         0        0       7    2007      New       Partial  \n",
       "871           0         0        0       8    2009       WD        Normal  \n",
       "93            0         0        0       8    2009       WD        Normal  \n",
       "818           0         0        0       7    2008       WD        Normal  \n",
       "303           0         0        0       1    2006       WD        Normal  \n",
       "\n",
       "[5 rows x 60 columns]"
      ]
     },
     "execution_count": 3,
     "metadata": {},
     "output_type": "execute_result"
    }
   ],
   "source": [
    "X_train.head()"
   ]
  },
  {
   "cell_type": "markdown",
   "id": "57ba3937",
   "metadata": {
    "papermill": {
     "duration": 0.031546,
     "end_time": "2022-01-30T04:20:47.147434",
     "exception": false,
     "start_time": "2022-01-30T04:20:47.115888",
     "status": "completed"
    },
    "tags": []
   },
   "source": [
    "Notice that the dataset contains both numerical and categorical variables.  You'll need to encode the categorical data before training a model.\n",
    "\n",
    "To compare different models, you'll use the same `score_dataset()` function from the tutorial.  This function reports the [mean absolute error](https://en.wikipedia.org/wiki/Mean_absolute_error) (MAE) from a random forest model."
   ]
  },
  {
   "cell_type": "code",
   "execution_count": 4,
   "id": "73a9b49b",
   "metadata": {
    "execution": {
     "iopub.execute_input": "2022-01-30T04:20:47.213724Z",
     "iopub.status.busy": "2022-01-30T04:20:47.213069Z",
     "iopub.status.idle": "2022-01-30T04:20:47.415238Z",
     "shell.execute_reply": "2022-01-30T04:20:47.415802Z",
     "shell.execute_reply.started": "2022-01-30T04:19:50.207629Z"
    },
    "papermill": {
     "duration": 0.237204,
     "end_time": "2022-01-30T04:20:47.415974",
     "exception": false,
     "start_time": "2022-01-30T04:20:47.178770",
     "status": "completed"
    },
    "tags": []
   },
   "outputs": [],
   "source": [
    "from sklearn.ensemble import RandomForestRegressor\n",
    "from sklearn.metrics import mean_absolute_error\n",
    "\n",
    "# function for comparing different approaches\n",
    "def score_dataset(X_train, X_valid, y_train, y_valid):\n",
    "    model = RandomForestRegressor(n_estimators=100, random_state=0)\n",
    "    model.fit(X_train, y_train)\n",
    "    preds = model.predict(X_valid)\n",
    "    return mean_absolute_error(y_valid, preds)"
   ]
  },
  {
   "cell_type": "markdown",
   "id": "61eaa322",
   "metadata": {
    "papermill": {
     "duration": 0.031327,
     "end_time": "2022-01-30T04:20:47.479007",
     "exception": false,
     "start_time": "2022-01-30T04:20:47.447680",
     "status": "completed"
    },
    "tags": []
   },
   "source": [
    "# Step 1: Drop columns with categorical data\n",
    "\n",
    "You'll get started with the most straightforward approach.  Use the code cell below to preprocess the data in `X_train` and `X_valid` to remove columns with categorical data.  Set the preprocessed DataFrames to `drop_X_train` and `drop_X_valid`, respectively.  "
   ]
  },
  {
   "cell_type": "code",
   "execution_count": 5,
   "id": "9be71f8c",
   "metadata": {
    "execution": {
     "iopub.execute_input": "2022-01-30T04:20:47.546035Z",
     "iopub.status.busy": "2022-01-30T04:20:47.545355Z",
     "iopub.status.idle": "2022-01-30T04:20:47.556279Z",
     "shell.execute_reply": "2022-01-30T04:20:47.556833Z",
     "shell.execute_reply.started": "2022-01-30T04:19:50.406168Z"
    },
    "papermill": {
     "duration": 0.046641,
     "end_time": "2022-01-30T04:20:47.557000",
     "exception": false,
     "start_time": "2022-01-30T04:20:47.510359",
     "status": "completed"
    },
    "tags": []
   },
   "outputs": [
    {
     "data": {
      "application/javascript": [
       "parent.postMessage({\"jupyterEvent\": \"custom.exercise_interaction\", \"data\": {\"outcomeType\": 1, \"valueTowardsCompletion\": 0.5, \"interactionType\": 1, \"questionType\": 2, \"questionId\": \"1_Drop\", \"learnToolsVersion\": \"0.3.4\", \"failureMessage\": \"\", \"exceptionClass\": \"\", \"trace\": \"\"}}, \"*\")"
      ],
      "text/plain": [
       "<IPython.core.display.Javascript object>"
      ]
     },
     "metadata": {},
     "output_type": "display_data"
    },
    {
     "data": {
      "text/markdown": [
       "<span style=\"color:#33cc33\">Correct</span>"
      ],
      "text/plain": [
       "Correct"
      ]
     },
     "metadata": {},
     "output_type": "display_data"
    }
   ],
   "source": [
    "# Fill in the lines below: drop columns in training and validation data\n",
    "drop_X_train = X_train.select_dtypes(exclude=['object'])\n",
    "drop_X_valid = X_valid.select_dtypes(exclude=['object'])\n",
    "\n",
    "# Check your answers\n",
    "step_1.check()"
   ]
  },
  {
   "cell_type": "code",
   "execution_count": 6,
   "id": "86fe4cc9",
   "metadata": {
    "execution": {
     "iopub.execute_input": "2022-01-30T04:20:47.625240Z",
     "iopub.status.busy": "2022-01-30T04:20:47.624459Z",
     "iopub.status.idle": "2022-01-30T04:20:47.627292Z",
     "shell.execute_reply": "2022-01-30T04:20:47.627910Z",
     "shell.execute_reply.started": "2022-01-30T04:19:50.424676Z"
    },
    "papermill": {
     "duration": 0.038878,
     "end_time": "2022-01-30T04:20:47.628082",
     "exception": false,
     "start_time": "2022-01-30T04:20:47.589204",
     "status": "completed"
    },
    "tags": []
   },
   "outputs": [],
   "source": [
    "# Lines below will give you a hint or solution code\n",
    "#step_1.hint()\n",
    "#step_1.solution()"
   ]
  },
  {
   "cell_type": "markdown",
   "id": "a0308d8a",
   "metadata": {
    "papermill": {
     "duration": 0.032114,
     "end_time": "2022-01-30T04:20:47.692631",
     "exception": false,
     "start_time": "2022-01-30T04:20:47.660517",
     "status": "completed"
    },
    "tags": []
   },
   "source": [
    "Run the next code cell to get the MAE for this approach."
   ]
  },
  {
   "cell_type": "code",
   "execution_count": 7,
   "id": "1b5fd808",
   "metadata": {
    "execution": {
     "iopub.execute_input": "2022-01-30T04:20:47.760141Z",
     "iopub.status.busy": "2022-01-30T04:20:47.759513Z",
     "iopub.status.idle": "2022-01-30T04:20:48.984921Z",
     "shell.execute_reply": "2022-01-30T04:20:48.985480Z",
     "shell.execute_reply.started": "2022-01-30T04:19:50.437071Z"
    },
    "papermill": {
     "duration": 1.260996,
     "end_time": "2022-01-30T04:20:48.985655",
     "exception": false,
     "start_time": "2022-01-30T04:20:47.724659",
     "status": "completed"
    },
    "tags": []
   },
   "outputs": [
    {
     "name": "stdout",
     "output_type": "stream",
     "text": [
      "MAE from Approach 1 (Drop categorical variables):\n",
      "17837.82570776256\n"
     ]
    }
   ],
   "source": [
    "print(\"MAE from Approach 1 (Drop categorical variables):\")\n",
    "print(score_dataset(drop_X_train, drop_X_valid, y_train, y_valid))"
   ]
  },
  {
   "cell_type": "markdown",
   "id": "1a729b81",
   "metadata": {
    "papermill": {
     "duration": 0.03331,
     "end_time": "2022-01-30T04:20:49.052238",
     "exception": false,
     "start_time": "2022-01-30T04:20:49.018928",
     "status": "completed"
    },
    "tags": []
   },
   "source": [
    "Before jumping into ordinal encoding, we'll investigate the dataset.  Specifically, we'll look at the `'Condition2'` column.  The code cell below prints the unique entries in both the training and validation sets."
   ]
  },
  {
   "cell_type": "code",
   "execution_count": 8,
   "id": "96b7673f",
   "metadata": {
    "execution": {
     "iopub.execute_input": "2022-01-30T04:20:49.121977Z",
     "iopub.status.busy": "2022-01-30T04:20:49.121243Z",
     "iopub.status.idle": "2022-01-30T04:20:49.128030Z",
     "shell.execute_reply": "2022-01-30T04:20:49.127146Z",
     "shell.execute_reply.started": "2022-01-30T04:19:51.689255Z"
    },
    "papermill": {
     "duration": 0.042718,
     "end_time": "2022-01-30T04:20:49.128215",
     "exception": false,
     "start_time": "2022-01-30T04:20:49.085497",
     "status": "completed"
    },
    "tags": []
   },
   "outputs": [
    {
     "name": "stdout",
     "output_type": "stream",
     "text": [
      "Unique values in 'Condition2' column in training data: ['Norm' 'PosA' 'Feedr' 'PosN' 'Artery' 'RRAe']\n",
      "\n",
      "Unique values in 'Condition2' column in validation data: ['Norm' 'RRAn' 'RRNn' 'Artery' 'Feedr' 'PosN']\n"
     ]
    }
   ],
   "source": [
    "print(\"Unique values in 'Condition2' column in training data:\", X_train['Condition2'].unique())\n",
    "print(\"\\nUnique values in 'Condition2' column in validation data:\", X_valid['Condition2'].unique())"
   ]
  },
  {
   "cell_type": "markdown",
   "id": "073dacb1",
   "metadata": {
    "papermill": {
     "duration": 0.03416,
     "end_time": "2022-01-30T04:20:49.196679",
     "exception": false,
     "start_time": "2022-01-30T04:20:49.162519",
     "status": "completed"
    },
    "tags": []
   },
   "source": [
    "# Step 2: Ordinal encoding\n",
    "\n",
    "### Part A\n",
    "\n",
    "If you now write code to: \n",
    "- fit an ordinal encoder to the training data, and then \n",
    "- use it to transform both the training and validation data, \n",
    "\n",
    "you'll get an error.  Can you see why this is the case?  (_You'll need  to use the above output to answer this question._)"
   ]
  },
  {
   "cell_type": "code",
   "execution_count": 9,
   "id": "9676390e",
   "metadata": {
    "execution": {
     "iopub.execute_input": "2022-01-30T04:20:49.269402Z",
     "iopub.status.busy": "2022-01-30T04:20:49.268712Z",
     "iopub.status.idle": "2022-01-30T04:20:49.275503Z",
     "shell.execute_reply": "2022-01-30T04:20:49.274945Z",
     "shell.execute_reply.started": "2022-01-30T04:19:51.700905Z"
    },
    "papermill": {
     "duration": 0.045326,
     "end_time": "2022-01-30T04:20:49.275652",
     "exception": false,
     "start_time": "2022-01-30T04:20:49.230326",
     "status": "completed"
    },
    "tags": []
   },
   "outputs": [
    {
     "data": {
      "application/javascript": [
       "parent.postMessage({\"jupyterEvent\": \"custom.exercise_interaction\", \"data\": {\"outcomeType\": 1, \"valueTowardsCompletion\": 0.5, \"interactionType\": 1, \"questionType\": 4, \"questionId\": \"2.1_LabelA\", \"learnToolsVersion\": \"0.3.4\", \"failureMessage\": \"\", \"exceptionClass\": \"\", \"trace\": \"\"}}, \"*\")"
      ],
      "text/plain": [
       "<IPython.core.display.Javascript object>"
      ]
     },
     "metadata": {},
     "output_type": "display_data"
    },
    {
     "data": {
      "text/markdown": [
       "<span style=\"color:#33cc33\">Correct:</span> \n",
       "\n",
       "Fitting an ordinal encoder to a column in the training data creates a corresponding integer-valued label for each unique value **that appears in the training data**. In the case that the validation data contains values that don't also appear in the training data, the encoder will throw an error, because these values won't have an integer assigned to them.  Notice that the `'Condition2'` column in the validation data contains the values `'RRAn'` and `'RRNn'`, but these don't appear in the training data -- thus, if we try to use an ordinal encoder with scikit-learn, the code will throw an error."
      ],
      "text/plain": [
       "Correct: \n",
       "\n",
       "Fitting an ordinal encoder to a column in the training data creates a corresponding integer-valued label for each unique value **that appears in the training data**. In the case that the validation data contains values that don't also appear in the training data, the encoder will throw an error, because these values won't have an integer assigned to them.  Notice that the `'Condition2'` column in the validation data contains the values `'RRAn'` and `'RRNn'`, but these don't appear in the training data -- thus, if we try to use an ordinal encoder with scikit-learn, the code will throw an error."
      ]
     },
     "metadata": {},
     "output_type": "display_data"
    }
   ],
   "source": [
    "# Check your answer (Run this code cell to receive credit!)\n",
    "step_2.a.check()"
   ]
  },
  {
   "cell_type": "code",
   "execution_count": 10,
   "id": "b9538f30",
   "metadata": {
    "execution": {
     "iopub.execute_input": "2022-01-30T04:20:49.348912Z",
     "iopub.status.busy": "2022-01-30T04:20:49.348125Z",
     "iopub.status.idle": "2022-01-30T04:20:49.351229Z",
     "shell.execute_reply": "2022-01-30T04:20:49.351794Z",
     "shell.execute_reply.started": "2022-01-30T04:19:51.713162Z"
    },
    "papermill": {
     "duration": 0.04182,
     "end_time": "2022-01-30T04:20:49.351975",
     "exception": false,
     "start_time": "2022-01-30T04:20:49.310155",
     "status": "completed"
    },
    "tags": []
   },
   "outputs": [],
   "source": [
    "#step_2.a.hint()"
   ]
  },
  {
   "cell_type": "markdown",
   "id": "01088987",
   "metadata": {
    "papermill": {
     "duration": 0.034194,
     "end_time": "2022-01-30T04:20:49.420400",
     "exception": false,
     "start_time": "2022-01-30T04:20:49.386206",
     "status": "completed"
    },
    "tags": []
   },
   "source": [
    "This is a common problem that you'll encounter with real-world data, and there are many approaches to fixing this issue.  For instance, you can write a custom ordinal encoder to deal with new categories.  The simplest approach, however, is to drop the problematic categorical columns.  \n",
    "\n",
    "Run the code cell below to save the problematic columns to a Python list `bad_label_cols`.  Likewise, columns that can be safely ordinal encoded are stored in `good_label_cols`."
   ]
  },
  {
   "cell_type": "code",
   "execution_count": 11,
   "id": "0db477cc",
   "metadata": {
    "execution": {
     "iopub.execute_input": "2022-01-30T04:20:49.505732Z",
     "iopub.status.busy": "2022-01-30T04:20:49.504880Z",
     "iopub.status.idle": "2022-01-30T04:20:49.508165Z",
     "shell.execute_reply": "2022-01-30T04:20:49.508679Z",
     "shell.execute_reply.started": "2022-01-30T04:19:51.722180Z"
    },
    "papermill": {
     "duration": 0.054313,
     "end_time": "2022-01-30T04:20:49.508863",
     "exception": false,
     "start_time": "2022-01-30T04:20:49.454550",
     "status": "completed"
    },
    "tags": []
   },
   "outputs": [
    {
     "name": "stdout",
     "output_type": "stream",
     "text": [
      "Categorical columns that will be ordinal encoded: ['MSZoning', 'Street', 'LotShape', 'LandContour', 'Utilities', 'LotConfig', 'LandSlope', 'Neighborhood', 'Condition1', 'BldgType', 'HouseStyle', 'RoofStyle', 'Exterior1st', 'Exterior2nd', 'ExterQual', 'ExterCond', 'Foundation', 'Heating', 'HeatingQC', 'CentralAir', 'KitchenQual', 'PavedDrive', 'SaleType', 'SaleCondition']\n",
      "\n",
      "Categorical columns that will be dropped from the dataset: ['Condition2', 'Functional', 'RoofMatl']\n"
     ]
    }
   ],
   "source": [
    "# Categorical columns in the training data\n",
    "object_cols = [col for col in X_train.columns if X_train[col].dtype == \"object\"]\n",
    "\n",
    "# Columns that can be safely ordinal encoded\n",
    "good_label_cols = [col for col in object_cols if \n",
    "                   set(X_valid[col]).issubset(set(X_train[col]))]\n",
    "        \n",
    "# Problematic columns that will be dropped from the dataset\n",
    "bad_label_cols = list(set(object_cols)-set(good_label_cols))\n",
    "        \n",
    "print('Categorical columns that will be ordinal encoded:', good_label_cols)\n",
    "print('\\nCategorical columns that will be dropped from the dataset:', bad_label_cols)"
   ]
  },
  {
   "cell_type": "markdown",
   "id": "58385640",
   "metadata": {
    "papermill": {
     "duration": 0.034314,
     "end_time": "2022-01-30T04:20:49.578183",
     "exception": false,
     "start_time": "2022-01-30T04:20:49.543869",
     "status": "completed"
    },
    "tags": []
   },
   "source": [
    "### Part B\n",
    "\n",
    "Use the next code cell to ordinal encode the data in `X_train` and `X_valid`.  Set the preprocessed DataFrames to `label_X_train` and `label_X_valid`, respectively.  \n",
    "- We have provided code below to drop the categorical columns in `bad_label_cols` from the dataset. \n",
    "- You should ordinal encode the categorical columns in `good_label_cols`.  "
   ]
  },
  {
   "cell_type": "code",
   "execution_count": 12,
   "id": "0fbc85c3",
   "metadata": {
    "execution": {
     "iopub.execute_input": "2022-01-30T04:20:49.651345Z",
     "iopub.status.busy": "2022-01-30T04:20:49.650355Z",
     "iopub.status.idle": "2022-01-30T04:20:49.697045Z",
     "shell.execute_reply": "2022-01-30T04:20:49.697606Z",
     "shell.execute_reply.started": "2022-01-30T04:19:51.745232Z"
    },
    "papermill": {
     "duration": 0.08493,
     "end_time": "2022-01-30T04:20:49.697785",
     "exception": false,
     "start_time": "2022-01-30T04:20:49.612855",
     "status": "completed"
    },
    "tags": []
   },
   "outputs": [
    {
     "data": {
      "application/javascript": [
       "parent.postMessage({\"jupyterEvent\": \"custom.exercise_interaction\", \"data\": {\"outcomeType\": 1, \"valueTowardsCompletion\": 0.5, \"interactionType\": 1, \"questionType\": 2, \"questionId\": \"2.2_LabelB\", \"learnToolsVersion\": \"0.3.4\", \"failureMessage\": \"\", \"exceptionClass\": \"\", \"trace\": \"\"}}, \"*\")"
      ],
      "text/plain": [
       "<IPython.core.display.Javascript object>"
      ]
     },
     "metadata": {},
     "output_type": "display_data"
    },
    {
     "data": {
      "text/markdown": [
       "<span style=\"color:#33cc33\">Correct</span>"
      ],
      "text/plain": [
       "Correct"
      ]
     },
     "metadata": {},
     "output_type": "display_data"
    }
   ],
   "source": [
    "from sklearn.preprocessing import OrdinalEncoder\n",
    "\n",
    "# Drop categorical columns that will not be encoded\n",
    "label_X_train = X_train.drop(bad_label_cols, axis=1)\n",
    "label_X_valid = X_valid.drop(bad_label_cols, axis=1)\n",
    "\n",
    "# Apply ordinal encoder \n",
    "ordinal_encoder = OrdinalEncoder()\n",
    "label_X_train[good_label_cols] = ordinal_encoder.fit_transform(X_train[good_label_cols])\n",
    "label_X_valid[good_label_cols] = ordinal_encoder.transform(X_valid[good_label_cols])\n",
    "# Your code here\n",
    "    \n",
    "# Check your answer\n",
    "step_2.b.check()"
   ]
  },
  {
   "cell_type": "code",
   "execution_count": 13,
   "id": "8549ba07",
   "metadata": {
    "execution": {
     "iopub.execute_input": "2022-01-30T04:20:49.776266Z",
     "iopub.status.busy": "2022-01-30T04:20:49.775398Z",
     "iopub.status.idle": "2022-01-30T04:20:49.777462Z",
     "shell.execute_reply": "2022-01-30T04:20:49.778039Z",
     "shell.execute_reply.started": "2022-01-30T04:19:51.799996Z"
    },
    "papermill": {
     "duration": 0.044085,
     "end_time": "2022-01-30T04:20:49.778206",
     "exception": false,
     "start_time": "2022-01-30T04:20:49.734121",
     "status": "completed"
    },
    "tags": []
   },
   "outputs": [],
   "source": [
    "# Lines below will give you a hint or solution code\n",
    "#step_2.b.hint()\n",
    "#step_2.b.solution()"
   ]
  },
  {
   "cell_type": "markdown",
   "id": "c25ddab8",
   "metadata": {
    "papermill": {
     "duration": 0.035786,
     "end_time": "2022-01-30T04:20:49.850627",
     "exception": false,
     "start_time": "2022-01-30T04:20:49.814841",
     "status": "completed"
    },
    "tags": []
   },
   "source": [
    "Run the next code cell to get the MAE for this approach."
   ]
  },
  {
   "cell_type": "code",
   "execution_count": 14,
   "id": "963d0e67",
   "metadata": {
    "execution": {
     "iopub.execute_input": "2022-01-30T04:20:49.926840Z",
     "iopub.status.busy": "2022-01-30T04:20:49.926121Z",
     "iopub.status.idle": "2022-01-30T04:20:51.482492Z",
     "shell.execute_reply": "2022-01-30T04:20:51.483114Z",
     "shell.execute_reply.started": "2022-01-30T04:19:51.805755Z"
    },
    "papermill": {
     "duration": 1.596459,
     "end_time": "2022-01-30T04:20:51.483311",
     "exception": false,
     "start_time": "2022-01-30T04:20:49.886852",
     "status": "completed"
    },
    "tags": []
   },
   "outputs": [
    {
     "name": "stdout",
     "output_type": "stream",
     "text": [
      "MAE from Approach 2 (Ordinal Encoding):\n",
      "17098.01649543379\n"
     ]
    }
   ],
   "source": [
    "print(\"MAE from Approach 2 (Ordinal Encoding):\") \n",
    "print(score_dataset(label_X_train, label_X_valid, y_train, y_valid))"
   ]
  },
  {
   "cell_type": "markdown",
   "id": "2a613ee6",
   "metadata": {
    "papermill": {
     "duration": 0.036974,
     "end_time": "2022-01-30T04:20:51.556755",
     "exception": false,
     "start_time": "2022-01-30T04:20:51.519781",
     "status": "completed"
    },
    "tags": []
   },
   "source": [
    "So far, you've tried two different approaches to dealing with categorical variables.  And, you've seen that encoding categorical data yields better results than removing columns from the dataset.\n",
    "\n",
    "Soon, you'll try one-hot encoding.  Before then, there's one additional topic we need to cover.  Begin by running the next code cell without changes.  "
   ]
  },
  {
   "cell_type": "code",
   "execution_count": 15,
   "id": "572592c2",
   "metadata": {
    "execution": {
     "iopub.execute_input": "2022-01-30T04:20:51.634761Z",
     "iopub.status.busy": "2022-01-30T04:20:51.634106Z",
     "iopub.status.idle": "2022-01-30T04:20:51.652561Z",
     "shell.execute_reply": "2022-01-30T04:20:51.653119Z",
     "shell.execute_reply.started": "2022-01-30T04:19:53.385448Z"
    },
    "papermill": {
     "duration": 0.060433,
     "end_time": "2022-01-30T04:20:51.653319",
     "exception": false,
     "start_time": "2022-01-30T04:20:51.592886",
     "status": "completed"
    },
    "tags": []
   },
   "outputs": [
    {
     "data": {
      "text/plain": [
       "[('Street', 2),\n",
       " ('Utilities', 2),\n",
       " ('CentralAir', 2),\n",
       " ('LandSlope', 3),\n",
       " ('PavedDrive', 3),\n",
       " ('LotShape', 4),\n",
       " ('LandContour', 4),\n",
       " ('ExterQual', 4),\n",
       " ('KitchenQual', 4),\n",
       " ('MSZoning', 5),\n",
       " ('LotConfig', 5),\n",
       " ('BldgType', 5),\n",
       " ('ExterCond', 5),\n",
       " ('HeatingQC', 5),\n",
       " ('Condition2', 6),\n",
       " ('RoofStyle', 6),\n",
       " ('Foundation', 6),\n",
       " ('Heating', 6),\n",
       " ('Functional', 6),\n",
       " ('SaleCondition', 6),\n",
       " ('RoofMatl', 7),\n",
       " ('HouseStyle', 8),\n",
       " ('Condition1', 9),\n",
       " ('SaleType', 9),\n",
       " ('Exterior1st', 15),\n",
       " ('Exterior2nd', 16),\n",
       " ('Neighborhood', 25)]"
      ]
     },
     "execution_count": 15,
     "metadata": {},
     "output_type": "execute_result"
    }
   ],
   "source": [
    "# Get number of unique entries in each column with categorical data\n",
    "object_nunique = list(map(lambda col: X_train[col].nunique(), object_cols))\n",
    "d = dict(zip(object_cols, object_nunique))\n",
    "\n",
    "# Print number of unique entries by column, in ascending order\n",
    "sorted(d.items(), key=lambda x: x[1])"
   ]
  },
  {
   "cell_type": "markdown",
   "id": "2aae6b08",
   "metadata": {
    "papermill": {
     "duration": 0.038752,
     "end_time": "2022-01-30T04:20:51.731576",
     "exception": false,
     "start_time": "2022-01-30T04:20:51.692824",
     "status": "completed"
    },
    "tags": []
   },
   "source": [
    "# Step 3: Investigating cardinality\n",
    "\n",
    "### Part A\n",
    "\n",
    "The output above shows, for each column with categorical data, the number of unique values in the column.  For instance, the `'Street'` column in the training data has two unique values: `'Grvl'` and `'Pave'`, corresponding to a gravel road and a paved road, respectively.\n",
    "\n",
    "We refer to the number of unique entries of a categorical variable as the **cardinality** of that categorical variable.  For instance, the `'Street'` variable has cardinality 2.\n",
    "\n",
    "Use the output above to answer the questions below."
   ]
  },
  {
   "cell_type": "code",
   "execution_count": 16,
   "id": "c2899bbf",
   "metadata": {
    "execution": {
     "iopub.execute_input": "2022-01-30T04:20:51.812547Z",
     "iopub.status.busy": "2022-01-30T04:20:51.811802Z",
     "iopub.status.idle": "2022-01-30T04:20:51.815663Z",
     "shell.execute_reply": "2022-01-30T04:20:51.816182Z",
     "shell.execute_reply.started": "2022-01-30T04:19:53.403180Z"
    },
    "papermill": {
     "duration": 0.046837,
     "end_time": "2022-01-30T04:20:51.816390",
     "exception": false,
     "start_time": "2022-01-30T04:20:51.769553",
     "status": "completed"
    },
    "tags": []
   },
   "outputs": [
    {
     "data": {
      "application/javascript": [
       "parent.postMessage({\"jupyterEvent\": \"custom.exercise_interaction\", \"data\": {\"outcomeType\": 1, \"valueTowardsCompletion\": 0.5, \"interactionType\": 1, \"questionType\": 1, \"questionId\": \"3.1_CardinalityA\", \"learnToolsVersion\": \"0.3.4\", \"failureMessage\": \"\", \"exceptionClass\": \"\", \"trace\": \"\"}}, \"*\")"
      ],
      "text/plain": [
       "<IPython.core.display.Javascript object>"
      ]
     },
     "metadata": {},
     "output_type": "display_data"
    },
    {
     "data": {
      "text/markdown": [
       "<span style=\"color:#33cc33\">Correct</span>"
      ],
      "text/plain": [
       "Correct"
      ]
     },
     "metadata": {},
     "output_type": "display_data"
    }
   ],
   "source": [
    "# Fill in the line below: How many categorical variables in the training data\n",
    "# have cardinality greater than 10?\n",
    "high_cardinality_numcols = 3\n",
    "\n",
    "# Fill in the line below: How many columns are needed to one-hot encode the \n",
    "# 'Neighborhood' variable in the training data?\n",
    "num_cols_neighborhood = 25\n",
    "\n",
    "# Check your answers\n",
    "step_3.a.check()"
   ]
  },
  {
   "cell_type": "code",
   "execution_count": 17,
   "id": "beba03aa",
   "metadata": {
    "execution": {
     "iopub.execute_input": "2022-01-30T04:20:51.897859Z",
     "iopub.status.busy": "2022-01-30T04:20:51.896010Z",
     "iopub.status.idle": "2022-01-30T04:20:51.900856Z",
     "shell.execute_reply": "2022-01-30T04:20:51.900188Z",
     "shell.execute_reply.started": "2022-01-30T04:19:53.414262Z"
    },
    "papermill": {
     "duration": 0.046789,
     "end_time": "2022-01-30T04:20:51.900993",
     "exception": false,
     "start_time": "2022-01-30T04:20:51.854204",
     "status": "completed"
    },
    "tags": []
   },
   "outputs": [],
   "source": [
    "# Lines below will give you a hint or solution code\n",
    "#step_3.a.hint()\n",
    "#step_3.a.solution()"
   ]
  },
  {
   "cell_type": "markdown",
   "id": "7ea967be",
   "metadata": {
    "papermill": {
     "duration": 0.037385,
     "end_time": "2022-01-30T04:20:51.977159",
     "exception": false,
     "start_time": "2022-01-30T04:20:51.939774",
     "status": "completed"
    },
    "tags": []
   },
   "source": [
    "### Part B\n",
    "\n",
    "For large datasets with many rows, one-hot encoding can greatly expand the size of the dataset.  For this reason, we typically will only one-hot encode columns with relatively low cardinality.  Then, high cardinality columns can either be dropped from the dataset, or we can use ordinal encoding.\n",
    "\n",
    "As an example, consider a dataset with 10,000 rows, and containing one categorical column with 100 unique entries.  \n",
    "- If this column is replaced with the corresponding one-hot encoding, how many entries are added to the dataset?  \n",
    "- If we instead replace the column with the ordinal encoding, how many entries are added?  \n",
    "\n",
    "Use your answers to fill in the lines below."
   ]
  },
  {
   "cell_type": "code",
   "execution_count": 18,
   "id": "f9913692",
   "metadata": {
    "execution": {
     "iopub.execute_input": "2022-01-30T04:20:52.057289Z",
     "iopub.status.busy": "2022-01-30T04:20:52.056523Z",
     "iopub.status.idle": "2022-01-30T04:20:52.063429Z",
     "shell.execute_reply": "2022-01-30T04:20:52.064016Z",
     "shell.execute_reply.started": "2022-01-30T04:19:53.425647Z"
    },
    "papermill": {
     "duration": 0.048392,
     "end_time": "2022-01-30T04:20:52.064193",
     "exception": false,
     "start_time": "2022-01-30T04:20:52.015801",
     "status": "completed"
    },
    "tags": []
   },
   "outputs": [
    {
     "data": {
      "application/javascript": [
       "parent.postMessage({\"jupyterEvent\": \"custom.exercise_interaction\", \"data\": {\"outcomeType\": 1, \"valueTowardsCompletion\": 0.5, \"interactionType\": 1, \"questionType\": 1, \"questionId\": \"3.2_CardinalityB\", \"learnToolsVersion\": \"0.3.4\", \"failureMessage\": \"\", \"exceptionClass\": \"\", \"trace\": \"\"}}, \"*\")"
      ],
      "text/plain": [
       "<IPython.core.display.Javascript object>"
      ]
     },
     "metadata": {},
     "output_type": "display_data"
    },
    {
     "data": {
      "text/markdown": [
       "<span style=\"color:#33cc33\">Correct</span>"
      ],
      "text/plain": [
       "Correct"
      ]
     },
     "metadata": {},
     "output_type": "display_data"
    }
   ],
   "source": [
    "# Fill in the line below: How many entries are added to the dataset by \n",
    "# replacing the column with a one-hot encoding?\n",
    "OH_entries_added = 1e4*100 - 1e4\n",
    "\n",
    "# Fill in the line below: How many entries are added to the dataset by\n",
    "# replacing the column with an ordinal encoding?\n",
    "label_entries_added = 0\n",
    "\n",
    "# Check your answers\n",
    "step_3.b.check()"
   ]
  },
  {
   "cell_type": "code",
   "execution_count": 19,
   "id": "80fd2799",
   "metadata": {
    "execution": {
     "iopub.execute_input": "2022-01-30T04:20:52.146742Z",
     "iopub.status.busy": "2022-01-30T04:20:52.146060Z",
     "iopub.status.idle": "2022-01-30T04:20:52.148066Z",
     "shell.execute_reply": "2022-01-30T04:20:52.148563Z",
     "shell.execute_reply.started": "2022-01-30T04:19:53.440556Z"
    },
    "papermill": {
     "duration": 0.045672,
     "end_time": "2022-01-30T04:20:52.148748",
     "exception": false,
     "start_time": "2022-01-30T04:20:52.103076",
     "status": "completed"
    },
    "tags": []
   },
   "outputs": [],
   "source": [
    "# Lines below will give you a hint or solution code\n",
    "#step_3.b.hint()\n",
    "#step_3.b.solution()"
   ]
  },
  {
   "cell_type": "markdown",
   "id": "06edd1d2",
   "metadata": {
    "papermill": {
     "duration": 0.040375,
     "end_time": "2022-01-30T04:20:52.229241",
     "exception": false,
     "start_time": "2022-01-30T04:20:52.188866",
     "status": "completed"
    },
    "tags": []
   },
   "source": [
    "Next, you'll experiment with one-hot encoding.  But, instead of encoding all of the categorical variables in the dataset, you'll only create a one-hot encoding for columns with cardinality less than 10.\n",
    "\n",
    "Run the code cell below without changes to set `low_cardinality_cols` to a Python list containing the columns that will be one-hot encoded.  Likewise, `high_cardinality_cols` contains a list of categorical columns that will be dropped from the dataset."
   ]
  },
  {
   "cell_type": "code",
   "execution_count": 20,
   "id": "440bc49c",
   "metadata": {
    "execution": {
     "iopub.execute_input": "2022-01-30T04:20:52.310110Z",
     "iopub.status.busy": "2022-01-30T04:20:52.309375Z",
     "iopub.status.idle": "2022-01-30T04:20:52.320041Z",
     "shell.execute_reply": "2022-01-30T04:20:52.320725Z",
     "shell.execute_reply.started": "2022-01-30T04:19:53.453619Z"
    },
    "papermill": {
     "duration": 0.053192,
     "end_time": "2022-01-30T04:20:52.320992",
     "exception": false,
     "start_time": "2022-01-30T04:20:52.267800",
     "status": "completed"
    },
    "tags": []
   },
   "outputs": [
    {
     "name": "stdout",
     "output_type": "stream",
     "text": [
      "Categorical columns that will be one-hot encoded: ['MSZoning', 'Street', 'LotShape', 'LandContour', 'Utilities', 'LotConfig', 'LandSlope', 'Condition1', 'Condition2', 'BldgType', 'HouseStyle', 'RoofStyle', 'RoofMatl', 'ExterQual', 'ExterCond', 'Foundation', 'Heating', 'HeatingQC', 'CentralAir', 'KitchenQual', 'Functional', 'PavedDrive', 'SaleType', 'SaleCondition']\n",
      "\n",
      "Categorical columns that will be dropped from the dataset: ['Exterior2nd', 'Neighborhood', 'Exterior1st']\n"
     ]
    }
   ],
   "source": [
    "# Columns that will be one-hot encoded\n",
    "low_cardinality_cols = [col for col in object_cols if X_train[col].nunique() < 10]\n",
    "\n",
    "# Columns that will be dropped from the dataset\n",
    "high_cardinality_cols = list(set(object_cols)-set(low_cardinality_cols))\n",
    "\n",
    "print('Categorical columns that will be one-hot encoded:', low_cardinality_cols)\n",
    "print('\\nCategorical columns that will be dropped from the dataset:', high_cardinality_cols)"
   ]
  },
  {
   "cell_type": "markdown",
   "id": "08a2163e",
   "metadata": {
    "papermill": {
     "duration": 0.038657,
     "end_time": "2022-01-30T04:20:52.399601",
     "exception": false,
     "start_time": "2022-01-30T04:20:52.360944",
     "status": "completed"
    },
    "tags": []
   },
   "source": [
    "# Step 4: One-hot encoding\n",
    "\n",
    "Use the next code cell to one-hot encode the data in `X_train` and `X_valid`.  Set the preprocessed DataFrames to `OH_X_train` and `OH_X_valid`, respectively.  \n",
    "- The full list of categorical columns in the dataset can be found in the Python list `object_cols`.\n",
    "- You should only one-hot encode the categorical columns in `low_cardinality_cols`.  All other categorical columns should be dropped from the dataset. "
   ]
  },
  {
   "cell_type": "code",
   "execution_count": 21,
   "id": "dcdc6c09",
   "metadata": {
    "execution": {
     "iopub.execute_input": "2022-01-30T04:20:52.481293Z",
     "iopub.status.busy": "2022-01-30T04:20:52.480554Z",
     "iopub.status.idle": "2022-01-30T04:20:52.523731Z",
     "shell.execute_reply": "2022-01-30T04:20:52.524183Z",
     "shell.execute_reply.started": "2022-01-30T04:19:53.472798Z"
    },
    "papermill": {
     "duration": 0.086196,
     "end_time": "2022-01-30T04:20:52.524411",
     "exception": false,
     "start_time": "2022-01-30T04:20:52.438215",
     "status": "completed"
    },
    "tags": []
   },
   "outputs": [
    {
     "data": {
      "application/javascript": [
       "parent.postMessage({\"jupyterEvent\": \"custom.exercise_interaction\", \"data\": {\"outcomeType\": 1, \"valueTowardsCompletion\": 0.5, \"interactionType\": 1, \"questionType\": 2, \"questionId\": \"4_OneHot\", \"learnToolsVersion\": \"0.3.4\", \"failureMessage\": \"\", \"exceptionClass\": \"\", \"trace\": \"\"}}, \"*\")"
      ],
      "text/plain": [
       "<IPython.core.display.Javascript object>"
      ]
     },
     "metadata": {},
     "output_type": "display_data"
    },
    {
     "data": {
      "text/markdown": [
       "<span style=\"color:#33cc33\">Correct</span>"
      ],
      "text/plain": [
       "Correct"
      ]
     },
     "metadata": {},
     "output_type": "display_data"
    }
   ],
   "source": [
    "from sklearn.preprocessing import OneHotEncoder\n",
    "\n",
    "# Use as many lines of code as you need!\n",
    "OH_encoder = OneHotEncoder(handle_unknown='ignore', sparse=False)\n",
    "OH_cols_train = pd.DataFrame(OH_encoder.fit_transform(X_train[low_cardinality_cols]))\n",
    "OH_cols_valid = pd.DataFrame(OH_encoder.transform(X_valid[low_cardinality_cols]))\n",
    "\n",
    "# One-hot encoding removed index; put it back\n",
    "OH_cols_train.index = X_train.index\n",
    "OH_cols_valid.index = X_valid.index\n",
    "\n",
    "# Remove categorical columns (will replace with one-hot encoding)\n",
    "num_X_train = X_train.drop(object_cols, axis=1)\n",
    "num_X_valid = X_valid.drop(object_cols, axis=1)\n",
    "\n",
    "OH_X_train = pd.concat([num_X_train, OH_cols_train], axis=1) # Your code here\n",
    "OH_X_valid = pd.concat([num_X_valid, OH_cols_valid], axis=1) # Your code here\n",
    "\n",
    "# Check your answer\n",
    "step_4.check()"
   ]
  },
  {
   "cell_type": "code",
   "execution_count": 22,
   "id": "50b70423",
   "metadata": {
    "execution": {
     "iopub.execute_input": "2022-01-30T04:20:52.610214Z",
     "iopub.status.busy": "2022-01-30T04:20:52.609108Z",
     "iopub.status.idle": "2022-01-30T04:20:52.611036Z",
     "shell.execute_reply": "2022-01-30T04:20:52.611527Z",
     "shell.execute_reply.started": "2022-01-30T04:19:53.522145Z"
    },
    "papermill": {
     "duration": 0.047013,
     "end_time": "2022-01-30T04:20:52.611694",
     "exception": false,
     "start_time": "2022-01-30T04:20:52.564681",
     "status": "completed"
    },
    "tags": []
   },
   "outputs": [],
   "source": [
    "# Lines below will give you a hint or solution code\n",
    "#step_4.hint()\n",
    "#step_4.solution()"
   ]
  },
  {
   "cell_type": "markdown",
   "id": "19379949",
   "metadata": {
    "papermill": {
     "duration": 0.039378,
     "end_time": "2022-01-30T04:20:52.691472",
     "exception": false,
     "start_time": "2022-01-30T04:20:52.652094",
     "status": "completed"
    },
    "tags": []
   },
   "source": [
    "Run the next code cell to get the MAE for this approach."
   ]
  },
  {
   "cell_type": "code",
   "execution_count": 23,
   "id": "94e4088d",
   "metadata": {
    "execution": {
     "iopub.execute_input": "2022-01-30T04:20:52.780055Z",
     "iopub.status.busy": "2022-01-30T04:20:52.773752Z",
     "iopub.status.idle": "2022-01-30T04:20:54.742180Z",
     "shell.execute_reply": "2022-01-30T04:20:54.741619Z",
     "shell.execute_reply.started": "2022-01-30T04:19:53.527484Z"
    },
    "papermill": {
     "duration": 2.011195,
     "end_time": "2022-01-30T04:20:54.742317",
     "exception": false,
     "start_time": "2022-01-30T04:20:52.731122",
     "status": "completed"
    },
    "tags": []
   },
   "outputs": [
    {
     "name": "stdout",
     "output_type": "stream",
     "text": [
      "MAE from Approach 3 (One-Hot Encoding):\n",
      "17525.345719178084\n"
     ]
    }
   ],
   "source": [
    "print(\"MAE from Approach 3 (One-Hot Encoding):\") \n",
    "print(score_dataset(OH_X_train, OH_X_valid, y_train, y_valid))"
   ]
  },
  {
   "cell_type": "markdown",
   "id": "7d9b52be",
   "metadata": {
    "papermill": {
     "duration": 0.041714,
     "end_time": "2022-01-30T04:20:54.827514",
     "exception": false,
     "start_time": "2022-01-30T04:20:54.785800",
     "status": "completed"
    },
    "tags": []
   },
   "source": []
  },
  {
   "cell_type": "markdown",
   "id": "72cc9a78",
   "metadata": {
    "papermill": {
     "duration": 0.040823,
     "end_time": "2022-01-30T04:20:54.910205",
     "exception": false,
     "start_time": "2022-01-30T04:20:54.869382",
     "status": "completed"
    },
    "tags": []
   },
   "source": [
    "# Generate test predictions and submit your results\n",
    "\n",
    "After you complete Step 4, if you'd like to use what you've learned to submit your results to the leaderboard, you'll need to preprocess the test data before generating predictions.\n",
    "\n",
    "**This step is completely optional, and you do not need to submit results to the leaderboard to successfully complete the exercise.**\n",
    "\n",
    "Check out the previous exercise if you need help with remembering how to [join the competition](https://www.kaggle.com/c/home-data-for-ml-course) or save your results to CSV.  Once you have generated a file with your results, follow the instructions below:\n",
    "1. Begin by clicking on the **Save Version** button in the top right corner of the window.  This will generate a pop-up window.  \n",
    "2. Ensure that the **Save and Run All** option is selected, and then click on the **Save** button.\n",
    "3. This generates a window in the bottom left corner of the notebook.  After it has finished running, click on the number to the right of the **Save Version** button.  This pulls up a list of versions on the right of the screen.  Click on the ellipsis **(...)** to the right of the most recent version, and select **Open in Viewer**.  This brings you into view mode of the same page. You will need to scroll down to get back to these instructions.\n",
    "4. Click on the **Output** tab on the right of the screen.  Then, click on the file you would like to submit, and click on the blue **Submit** button to submit your results to the leaderboard.\n",
    "\n",
    "You have now successfully submitted to the competition!\n",
    "\n",
    "If you want to keep working to improve your performance, select the **Edit** button in the top right of the screen. Then you can change your code and repeat the process. There's a lot of room to improve, and you will climb up the leaderboard as you work.\n"
   ]
  },
  {
   "cell_type": "code",
   "execution_count": 24,
   "id": "21c4ff87",
   "metadata": {
    "execution": {
     "iopub.execute_input": "2022-01-30T04:20:54.996154Z",
     "iopub.status.busy": "2022-01-30T04:20:54.995510Z",
     "iopub.status.idle": "2022-01-30T04:20:54.998321Z",
     "shell.execute_reply": "2022-01-30T04:20:54.998966Z",
     "shell.execute_reply.started": "2022-01-30T04:19:55.462621Z"
    },
    "papermill": {
     "duration": 0.047586,
     "end_time": "2022-01-30T04:20:54.999139",
     "exception": false,
     "start_time": "2022-01-30T04:20:54.951553",
     "status": "completed"
    },
    "tags": []
   },
   "outputs": [],
   "source": [
    "# (Optional) Your code here"
   ]
  },
  {
   "cell_type": "markdown",
   "id": "63af5265",
   "metadata": {
    "papermill": {
     "duration": 0.041281,
     "end_time": "2022-01-30T04:20:55.081548",
     "exception": false,
     "start_time": "2022-01-30T04:20:55.040267",
     "status": "completed"
    },
    "tags": []
   },
   "source": [
    "# Keep going\n",
    "\n",
    "With missing value handling and categorical encoding, your modeling process is getting complex. This complexity gets worse when you want to save your model to use in the future. The key to managing this complexity is something called **pipelines**. \n",
    "\n",
    "**[Learn to use pipelines](https://www.kaggle.com/alexisbcook/pipelines)** to preprocess datasets with categorical variables, missing values and any other messiness your data throws at you."
   ]
  },
  {
   "cell_type": "markdown",
   "id": "74315526",
   "metadata": {
    "papermill": {
     "duration": 0.041234,
     "end_time": "2022-01-30T04:20:55.163532",
     "exception": false,
     "start_time": "2022-01-30T04:20:55.122298",
     "status": "completed"
    },
    "tags": []
   },
   "source": [
    "---\n",
    "\n",
    "\n",
    "\n",
    "\n",
    "*Have questions or comments? Visit the [Learn Discussion forum](https://www.kaggle.com/learn-forum/161289) to chat with other Learners.*"
   ]
  }
 ],
 "metadata": {
  "kernelspec": {
   "display_name": "Python 3",
   "language": "python",
   "name": "python3"
  },
  "language_info": {
   "codemirror_mode": {
    "name": "ipython",
    "version": 3
   },
   "file_extension": ".py",
   "mimetype": "text/x-python",
   "name": "python",
   "nbconvert_exporter": "python",
   "pygments_lexer": "ipython3",
   "version": "3.7.12"
  },
  "papermill": {
   "default_parameters": {},
   "duration": 21.165125,
   "end_time": "2022-01-30T04:20:55.914464",
   "environment_variables": {},
   "exception": null,
   "input_path": "__notebook__.ipynb",
   "output_path": "__notebook__.ipynb",
   "parameters": {},
   "start_time": "2022-01-30T04:20:34.749339",
   "version": "2.3.3"
  }
 },
 "nbformat": 4,
 "nbformat_minor": 5
}
