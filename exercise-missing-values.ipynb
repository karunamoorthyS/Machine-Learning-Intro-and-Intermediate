{
 "cells": [
  {
   "cell_type": "markdown",
   "id": "4b647f8a",
   "metadata": {
    "papermill": {
     "duration": 0.040734,
     "end_time": "2022-01-30T04:17:45.527927",
     "exception": false,
     "start_time": "2022-01-30T04:17:45.487193",
     "status": "completed"
    },
    "tags": []
   },
   "source": [
    "**This notebook is an exercise in the [Intermediate Machine Learning](https://www.kaggle.com/learn/intermediate-machine-learning) course.  You can reference the tutorial at [this link](https://www.kaggle.com/alexisbcook/missing-values).**\n",
    "\n",
    "---\n"
   ]
  },
  {
   "cell_type": "markdown",
   "id": "5173cb21",
   "metadata": {
    "papermill": {
     "duration": 0.024498,
     "end_time": "2022-01-30T04:17:45.579784",
     "exception": false,
     "start_time": "2022-01-30T04:17:45.555286",
     "status": "completed"
    },
    "tags": []
   },
   "source": [
    "Now it's your turn to test your new knowledge of **missing values** handling. You'll probably find it makes a big difference.\n",
    "\n",
    "# Setup\n",
    "\n",
    "The questions will give you feedback on your work. Run the following cell to set up the feedback system."
   ]
  },
  {
   "cell_type": "code",
   "execution_count": 1,
   "id": "d05c3a5e",
   "metadata": {
    "execution": {
     "iopub.execute_input": "2022-01-30T04:17:45.645321Z",
     "iopub.status.busy": "2022-01-30T04:17:45.643782Z",
     "iopub.status.idle": "2022-01-30T04:17:45.691085Z",
     "shell.execute_reply": "2022-01-30T04:17:45.691672Z",
     "shell.execute_reply.started": "2022-01-30T04:16:45.226536Z"
    },
    "papermill": {
     "duration": 0.085166,
     "end_time": "2022-01-30T04:17:45.691959",
     "exception": false,
     "start_time": "2022-01-30T04:17:45.606793",
     "status": "completed"
    },
    "tags": []
   },
   "outputs": [
    {
     "name": "stdout",
     "output_type": "stream",
     "text": [
      "Setup Complete\n"
     ]
    }
   ],
   "source": [
    "# Set up code checking\n",
    "import os\n",
    "if not os.path.exists(\"../input/train.csv\"):\n",
    "    os.symlink(\"../input/home-data-for-ml-course/train.csv\", \"../input/train.csv\")  \n",
    "    os.symlink(\"../input/home-data-for-ml-course/test.csv\", \"../input/test.csv\") \n",
    "from learntools.core import binder\n",
    "binder.bind(globals())\n",
    "from learntools.ml_intermediate.ex2 import *\n",
    "print(\"Setup Complete\")"
   ]
  },
  {
   "cell_type": "markdown",
   "id": "ca999a71",
   "metadata": {
    "papermill": {
     "duration": 0.022424,
     "end_time": "2022-01-30T04:17:45.736358",
     "exception": false,
     "start_time": "2022-01-30T04:17:45.713934",
     "status": "completed"
    },
    "tags": []
   },
   "source": [
    "In this exercise, you will work with data from the [Housing Prices Competition for Kaggle Learn Users](https://www.kaggle.com/c/home-data-for-ml-course). \n",
    "\n",
    "![Ames Housing dataset image](https://i.imgur.com/lTJVG4e.png)\n",
    "\n",
    "Run the next code cell without changes to load the training and validation sets in `X_train`, `X_valid`, `y_train`, and `y_valid`.  The test set is loaded in `X_test`."
   ]
  },
  {
   "cell_type": "code",
   "execution_count": 2,
   "id": "75b7dda0",
   "metadata": {
    "execution": {
     "iopub.execute_input": "2022-01-30T04:17:45.786419Z",
     "iopub.status.busy": "2022-01-30T04:17:45.785482Z",
     "iopub.status.idle": "2022-01-30T04:17:47.178381Z",
     "shell.execute_reply": "2022-01-30T04:17:47.177714Z",
     "shell.execute_reply.started": "2022-01-30T04:16:45.303459Z"
    },
    "papermill": {
     "duration": 1.418656,
     "end_time": "2022-01-30T04:17:47.178524",
     "exception": false,
     "start_time": "2022-01-30T04:17:45.759868",
     "status": "completed"
    },
    "tags": []
   },
   "outputs": [],
   "source": [
    "import pandas as pd\n",
    "from sklearn.model_selection import train_test_split\n",
    "\n",
    "# Read the data\n",
    "X_full = pd.read_csv('../input/train.csv', index_col='Id')\n",
    "X_test_full = pd.read_csv('../input/test.csv', index_col='Id')\n",
    "\n",
    "# Remove rows with missing target, separate target from predictors\n",
    "X_full.dropna(axis=0, subset=['SalePrice'], inplace=True)\n",
    "y = X_full.SalePrice\n",
    "X_full.drop(['SalePrice'], axis=1, inplace=True)\n",
    "\n",
    "# To keep things simple, we'll use only numerical predictors\n",
    "X = X_full.select_dtypes(exclude=['object'])\n",
    "X_test = X_test_full.select_dtypes(exclude=['object'])\n",
    "\n",
    "# Break off validation set from training data\n",
    "X_train, X_valid, y_train, y_valid = train_test_split(X, y, train_size=0.8, test_size=0.2,\n",
    "                                                      random_state=0)"
   ]
  },
  {
   "cell_type": "markdown",
   "id": "9574b5c0",
   "metadata": {
    "papermill": {
     "duration": 0.021039,
     "end_time": "2022-01-30T04:17:47.221297",
     "exception": false,
     "start_time": "2022-01-30T04:17:47.200258",
     "status": "completed"
    },
    "tags": []
   },
   "source": [
    "Use the next code cell to print the first five rows of the data."
   ]
  },
  {
   "cell_type": "code",
   "execution_count": 3,
   "id": "56eb14f2",
   "metadata": {
    "execution": {
     "iopub.execute_input": "2022-01-30T04:17:47.276773Z",
     "iopub.status.busy": "2022-01-30T04:17:47.276100Z",
     "iopub.status.idle": "2022-01-30T04:17:47.296898Z",
     "shell.execute_reply": "2022-01-30T04:17:47.297384Z",
     "shell.execute_reply.started": "2022-01-30T04:16:46.657694Z"
    },
    "papermill": {
     "duration": 0.054821,
     "end_time": "2022-01-30T04:17:47.297570",
     "exception": false,
     "start_time": "2022-01-30T04:17:47.242749",
     "status": "completed"
    },
    "tags": []
   },
   "outputs": [
    {
     "data": {
      "text/html": [
       "<div>\n",
       "<style scoped>\n",
       "    .dataframe tbody tr th:only-of-type {\n",
       "        vertical-align: middle;\n",
       "    }\n",
       "\n",
       "    .dataframe tbody tr th {\n",
       "        vertical-align: top;\n",
       "    }\n",
       "\n",
       "    .dataframe thead th {\n",
       "        text-align: right;\n",
       "    }\n",
       "</style>\n",
       "<table border=\"1\" class=\"dataframe\">\n",
       "  <thead>\n",
       "    <tr style=\"text-align: right;\">\n",
       "      <th></th>\n",
       "      <th>MSSubClass</th>\n",
       "      <th>LotFrontage</th>\n",
       "      <th>LotArea</th>\n",
       "      <th>OverallQual</th>\n",
       "      <th>OverallCond</th>\n",
       "      <th>YearBuilt</th>\n",
       "      <th>YearRemodAdd</th>\n",
       "      <th>MasVnrArea</th>\n",
       "      <th>BsmtFinSF1</th>\n",
       "      <th>BsmtFinSF2</th>\n",
       "      <th>...</th>\n",
       "      <th>GarageArea</th>\n",
       "      <th>WoodDeckSF</th>\n",
       "      <th>OpenPorchSF</th>\n",
       "      <th>EnclosedPorch</th>\n",
       "      <th>3SsnPorch</th>\n",
       "      <th>ScreenPorch</th>\n",
       "      <th>PoolArea</th>\n",
       "      <th>MiscVal</th>\n",
       "      <th>MoSold</th>\n",
       "      <th>YrSold</th>\n",
       "    </tr>\n",
       "    <tr>\n",
       "      <th>Id</th>\n",
       "      <th></th>\n",
       "      <th></th>\n",
       "      <th></th>\n",
       "      <th></th>\n",
       "      <th></th>\n",
       "      <th></th>\n",
       "      <th></th>\n",
       "      <th></th>\n",
       "      <th></th>\n",
       "      <th></th>\n",
       "      <th></th>\n",
       "      <th></th>\n",
       "      <th></th>\n",
       "      <th></th>\n",
       "      <th></th>\n",
       "      <th></th>\n",
       "      <th></th>\n",
       "      <th></th>\n",
       "      <th></th>\n",
       "      <th></th>\n",
       "      <th></th>\n",
       "    </tr>\n",
       "  </thead>\n",
       "  <tbody>\n",
       "    <tr>\n",
       "      <th>619</th>\n",
       "      <td>20</td>\n",
       "      <td>90.0</td>\n",
       "      <td>11694</td>\n",
       "      <td>9</td>\n",
       "      <td>5</td>\n",
       "      <td>2007</td>\n",
       "      <td>2007</td>\n",
       "      <td>452.0</td>\n",
       "      <td>48</td>\n",
       "      <td>0</td>\n",
       "      <td>...</td>\n",
       "      <td>774</td>\n",
       "      <td>0</td>\n",
       "      <td>108</td>\n",
       "      <td>0</td>\n",
       "      <td>0</td>\n",
       "      <td>260</td>\n",
       "      <td>0</td>\n",
       "      <td>0</td>\n",
       "      <td>7</td>\n",
       "      <td>2007</td>\n",
       "    </tr>\n",
       "    <tr>\n",
       "      <th>871</th>\n",
       "      <td>20</td>\n",
       "      <td>60.0</td>\n",
       "      <td>6600</td>\n",
       "      <td>5</td>\n",
       "      <td>5</td>\n",
       "      <td>1962</td>\n",
       "      <td>1962</td>\n",
       "      <td>0.0</td>\n",
       "      <td>0</td>\n",
       "      <td>0</td>\n",
       "      <td>...</td>\n",
       "      <td>308</td>\n",
       "      <td>0</td>\n",
       "      <td>0</td>\n",
       "      <td>0</td>\n",
       "      <td>0</td>\n",
       "      <td>0</td>\n",
       "      <td>0</td>\n",
       "      <td>0</td>\n",
       "      <td>8</td>\n",
       "      <td>2009</td>\n",
       "    </tr>\n",
       "    <tr>\n",
       "      <th>93</th>\n",
       "      <td>30</td>\n",
       "      <td>80.0</td>\n",
       "      <td>13360</td>\n",
       "      <td>5</td>\n",
       "      <td>7</td>\n",
       "      <td>1921</td>\n",
       "      <td>2006</td>\n",
       "      <td>0.0</td>\n",
       "      <td>713</td>\n",
       "      <td>0</td>\n",
       "      <td>...</td>\n",
       "      <td>432</td>\n",
       "      <td>0</td>\n",
       "      <td>0</td>\n",
       "      <td>44</td>\n",
       "      <td>0</td>\n",
       "      <td>0</td>\n",
       "      <td>0</td>\n",
       "      <td>0</td>\n",
       "      <td>8</td>\n",
       "      <td>2009</td>\n",
       "    </tr>\n",
       "    <tr>\n",
       "      <th>818</th>\n",
       "      <td>20</td>\n",
       "      <td>NaN</td>\n",
       "      <td>13265</td>\n",
       "      <td>8</td>\n",
       "      <td>5</td>\n",
       "      <td>2002</td>\n",
       "      <td>2002</td>\n",
       "      <td>148.0</td>\n",
       "      <td>1218</td>\n",
       "      <td>0</td>\n",
       "      <td>...</td>\n",
       "      <td>857</td>\n",
       "      <td>150</td>\n",
       "      <td>59</td>\n",
       "      <td>0</td>\n",
       "      <td>0</td>\n",
       "      <td>0</td>\n",
       "      <td>0</td>\n",
       "      <td>0</td>\n",
       "      <td>7</td>\n",
       "      <td>2008</td>\n",
       "    </tr>\n",
       "    <tr>\n",
       "      <th>303</th>\n",
       "      <td>20</td>\n",
       "      <td>118.0</td>\n",
       "      <td>13704</td>\n",
       "      <td>7</td>\n",
       "      <td>5</td>\n",
       "      <td>2001</td>\n",
       "      <td>2002</td>\n",
       "      <td>150.0</td>\n",
       "      <td>0</td>\n",
       "      <td>0</td>\n",
       "      <td>...</td>\n",
       "      <td>843</td>\n",
       "      <td>468</td>\n",
       "      <td>81</td>\n",
       "      <td>0</td>\n",
       "      <td>0</td>\n",
       "      <td>0</td>\n",
       "      <td>0</td>\n",
       "      <td>0</td>\n",
       "      <td>1</td>\n",
       "      <td>2006</td>\n",
       "    </tr>\n",
       "  </tbody>\n",
       "</table>\n",
       "<p>5 rows × 36 columns</p>\n",
       "</div>"
      ],
      "text/plain": [
       "     MSSubClass  LotFrontage  LotArea  OverallQual  OverallCond  YearBuilt  \\\n",
       "Id                                                                           \n",
       "619          20         90.0    11694            9            5       2007   \n",
       "871          20         60.0     6600            5            5       1962   \n",
       "93           30         80.0    13360            5            7       1921   \n",
       "818          20          NaN    13265            8            5       2002   \n",
       "303          20        118.0    13704            7            5       2001   \n",
       "\n",
       "     YearRemodAdd  MasVnrArea  BsmtFinSF1  BsmtFinSF2  ...  GarageArea  \\\n",
       "Id                                                     ...               \n",
       "619          2007       452.0          48           0  ...         774   \n",
       "871          1962         0.0           0           0  ...         308   \n",
       "93           2006         0.0         713           0  ...         432   \n",
       "818          2002       148.0        1218           0  ...         857   \n",
       "303          2002       150.0           0           0  ...         843   \n",
       "\n",
       "     WoodDeckSF  OpenPorchSF  EnclosedPorch  3SsnPorch  ScreenPorch  PoolArea  \\\n",
       "Id                                                                              \n",
       "619           0          108              0          0          260         0   \n",
       "871           0            0              0          0            0         0   \n",
       "93            0            0             44          0            0         0   \n",
       "818         150           59              0          0            0         0   \n",
       "303         468           81              0          0            0         0   \n",
       "\n",
       "     MiscVal  MoSold  YrSold  \n",
       "Id                            \n",
       "619        0       7    2007  \n",
       "871        0       8    2009  \n",
       "93         0       8    2009  \n",
       "818        0       7    2008  \n",
       "303        0       1    2006  \n",
       "\n",
       "[5 rows x 36 columns]"
      ]
     },
     "execution_count": 3,
     "metadata": {},
     "output_type": "execute_result"
    }
   ],
   "source": [
    "X_train.head()"
   ]
  },
  {
   "cell_type": "markdown",
   "id": "c25ff061",
   "metadata": {
    "papermill": {
     "duration": 0.021736,
     "end_time": "2022-01-30T04:17:47.341397",
     "exception": false,
     "start_time": "2022-01-30T04:17:47.319661",
     "status": "completed"
    },
    "tags": []
   },
   "source": [
    "You can already see a few missing values in the first several rows.  In the next step, you'll obtain a more comprehensive understanding of the missing values in the dataset.\n",
    "\n",
    "# Step 1: Preliminary investigation\n",
    "\n",
    "Run the code cell below without changes."
   ]
  },
  {
   "cell_type": "code",
   "execution_count": 4,
   "id": "65aa854a",
   "metadata": {
    "execution": {
     "iopub.execute_input": "2022-01-30T04:17:47.394531Z",
     "iopub.status.busy": "2022-01-30T04:17:47.393565Z",
     "iopub.status.idle": "2022-01-30T04:17:47.402731Z",
     "shell.execute_reply": "2022-01-30T04:17:47.402182Z",
     "shell.execute_reply.started": "2022-01-30T04:16:46.692302Z"
    },
    "papermill": {
     "duration": 0.036712,
     "end_time": "2022-01-30T04:17:47.402882",
     "exception": false,
     "start_time": "2022-01-30T04:17:47.366170",
     "status": "completed"
    },
    "tags": []
   },
   "outputs": [
    {
     "name": "stdout",
     "output_type": "stream",
     "text": [
      "(1168, 36)\n",
      "LotFrontage    212\n",
      "MasVnrArea       6\n",
      "GarageYrBlt     58\n",
      "dtype: int64\n"
     ]
    }
   ],
   "source": [
    "# Shape of training data (num_rows, num_columns)\n",
    "print(X_train.shape)\n",
    "\n",
    "# Number of missing values in each column of training data\n",
    "missing_val_count_by_column = (X_train.isnull().sum())\n",
    "print(missing_val_count_by_column[missing_val_count_by_column > 0])"
   ]
  },
  {
   "cell_type": "markdown",
   "id": "c29314ca",
   "metadata": {
    "papermill": {
     "duration": 0.022013,
     "end_time": "2022-01-30T04:17:47.447365",
     "exception": false,
     "start_time": "2022-01-30T04:17:47.425352",
     "status": "completed"
    },
    "tags": []
   },
   "source": [
    "### Part A\n",
    "\n",
    "Use the above output to answer the questions below."
   ]
  },
  {
   "cell_type": "code",
   "execution_count": 5,
   "id": "2d438f4a",
   "metadata": {
    "execution": {
     "iopub.execute_input": "2022-01-30T04:17:47.500949Z",
     "iopub.status.busy": "2022-01-30T04:17:47.499975Z",
     "iopub.status.idle": "2022-01-30T04:17:47.504610Z",
     "shell.execute_reply": "2022-01-30T04:17:47.505114Z",
     "shell.execute_reply.started": "2022-01-30T04:16:46.703871Z"
    },
    "papermill": {
     "duration": 0.03528,
     "end_time": "2022-01-30T04:17:47.505278",
     "exception": false,
     "start_time": "2022-01-30T04:17:47.469998",
     "status": "completed"
    },
    "tags": []
   },
   "outputs": [
    {
     "data": {
      "application/javascript": [
       "parent.postMessage({\"jupyterEvent\": \"custom.exercise_interaction\", \"data\": {\"outcomeType\": 1, \"valueTowardsCompletion\": 1.0, \"interactionType\": 1, \"questionType\": 1, \"questionId\": \"1.1_InvestigateEquality\", \"learnToolsVersion\": \"0.3.4\", \"failureMessage\": \"\", \"exceptionClass\": \"\", \"trace\": \"\"}}, \"*\")"
      ],
      "text/plain": [
       "<IPython.core.display.Javascript object>"
      ]
     },
     "metadata": {},
     "output_type": "display_data"
    },
    {
     "data": {
      "text/markdown": [
       "<span style=\"color:#33cc33\">Correct</span>"
      ],
      "text/plain": [
       "Correct"
      ]
     },
     "metadata": {},
     "output_type": "display_data"
    }
   ],
   "source": [
    "# Fill in the line below: How many rows are in the training data?\n",
    "num_rows = 1168\n",
    "\n",
    "\n",
    "# Fill in the line below: How many columns in the training data\n",
    "# have missing values?\n",
    "num_cols_with_missing = 3\n",
    "\n",
    "# Fill in the line below: How many missing entries are contained in \n",
    "# all of the training data?\n",
    "tot_missing = 212 + 6 + 58\n",
    "\n",
    "# Check your answers\n",
    "step_1.a.check()"
   ]
  },
  {
   "cell_type": "code",
   "execution_count": 6,
   "id": "61a0d216",
   "metadata": {
    "execution": {
     "iopub.execute_input": "2022-01-30T04:17:47.556726Z",
     "iopub.status.busy": "2022-01-30T04:17:47.555799Z",
     "iopub.status.idle": "2022-01-30T04:17:47.559846Z",
     "shell.execute_reply": "2022-01-30T04:17:47.559214Z",
     "shell.execute_reply.started": "2022-01-30T04:16:46.722058Z"
    },
    "papermill": {
     "duration": 0.031088,
     "end_time": "2022-01-30T04:17:47.559990",
     "exception": false,
     "start_time": "2022-01-30T04:17:47.528902",
     "status": "completed"
    },
    "tags": []
   },
   "outputs": [],
   "source": [
    "# Lines below will give you a hint or solution code\n",
    "#step_1.a.hint()\n",
    "#step_1.a.solution()"
   ]
  },
  {
   "cell_type": "markdown",
   "id": "855da003",
   "metadata": {
    "papermill": {
     "duration": 0.026399,
     "end_time": "2022-01-30T04:17:47.611542",
     "exception": false,
     "start_time": "2022-01-30T04:17:47.585143",
     "status": "completed"
    },
    "tags": []
   },
   "source": [
    "### Part B\n",
    "Considering your answers above, what do you think is likely the best approach to dealing with the missing values?"
   ]
  },
  {
   "cell_type": "code",
   "execution_count": 7,
   "id": "2979e54d",
   "metadata": {
    "execution": {
     "iopub.execute_input": "2022-01-30T04:17:47.666621Z",
     "iopub.status.busy": "2022-01-30T04:17:47.665678Z",
     "iopub.status.idle": "2022-01-30T04:17:47.673596Z",
     "shell.execute_reply": "2022-01-30T04:17:47.674606Z",
     "shell.execute_reply.started": "2022-01-30T04:16:46.732600Z"
    },
    "papermill": {
     "duration": 0.040153,
     "end_time": "2022-01-30T04:17:47.674877",
     "exception": false,
     "start_time": "2022-01-30T04:17:47.634724",
     "status": "completed"
    },
    "tags": []
   },
   "outputs": [
    {
     "data": {
      "application/javascript": [
       "parent.postMessage({\"jupyterEvent\": \"custom.exercise_interaction\", \"data\": {\"outcomeType\": 1, \"valueTowardsCompletion\": 1.0, \"interactionType\": 1, \"questionType\": 4, \"questionId\": \"1.2_InvestigateThought\", \"learnToolsVersion\": \"0.3.4\", \"failureMessage\": \"\", \"exceptionClass\": \"\", \"trace\": \"\"}}, \"*\")"
      ],
      "text/plain": [
       "<IPython.core.display.Javascript object>"
      ]
     },
     "metadata": {},
     "output_type": "display_data"
    },
    {
     "data": {
      "text/markdown": [
       "<span style=\"color:#33cc33\">Correct:</span> \n",
       "\n",
       "Since there are relatively few missing entries in the data (the column with the greatest percentage of missing values is missing less than 20% of its entries), we can expect that dropping columns is unlikely to yield good results.  This is because we'd be throwing away a lot of valuable data, and so imputation will likely perform better."
      ],
      "text/plain": [
       "Correct: \n",
       "\n",
       "Since there are relatively few missing entries in the data (the column with the greatest percentage of missing values is missing less than 20% of its entries), we can expect that dropping columns is unlikely to yield good results.  This is because we'd be throwing away a lot of valuable data, and so imputation will likely perform better."
      ]
     },
     "metadata": {},
     "output_type": "display_data"
    }
   ],
   "source": [
    "# Check your answer (Run this code cell to receive credit!)\n",
    "step_1.b.check()"
   ]
  },
  {
   "cell_type": "code",
   "execution_count": 8,
   "id": "34d7a32f",
   "metadata": {
    "execution": {
     "iopub.execute_input": "2022-01-30T04:17:47.733702Z",
     "iopub.status.busy": "2022-01-30T04:17:47.732548Z",
     "iopub.status.idle": "2022-01-30T04:17:47.736551Z",
     "shell.execute_reply": "2022-01-30T04:17:47.737590Z",
     "shell.execute_reply.started": "2022-01-30T04:16:46.751560Z"
    },
    "papermill": {
     "duration": 0.034604,
     "end_time": "2022-01-30T04:17:47.737962",
     "exception": false,
     "start_time": "2022-01-30T04:17:47.703358",
     "status": "completed"
    },
    "tags": []
   },
   "outputs": [],
   "source": [
    "#step_1.b.hint()"
   ]
  },
  {
   "cell_type": "markdown",
   "id": "fd115c6d",
   "metadata": {
    "papermill": {
     "duration": 0.027429,
     "end_time": "2022-01-30T04:17:47.793589",
     "exception": false,
     "start_time": "2022-01-30T04:17:47.766160",
     "status": "completed"
    },
    "tags": []
   },
   "source": [
    "To compare different approaches to dealing with missing values, you'll use the same `score_dataset()` function from the tutorial.  This function reports the [mean absolute error](https://en.wikipedia.org/wiki/Mean_absolute_error) (MAE) from a random forest model."
   ]
  },
  {
   "cell_type": "code",
   "execution_count": 9,
   "id": "9101ffe7",
   "metadata": {
    "execution": {
     "iopub.execute_input": "2022-01-30T04:17:47.851977Z",
     "iopub.status.busy": "2022-01-30T04:17:47.850854Z",
     "iopub.status.idle": "2022-01-30T04:17:48.102138Z",
     "shell.execute_reply": "2022-01-30T04:17:48.101512Z",
     "shell.execute_reply.started": "2022-01-30T04:16:46.760046Z"
    },
    "papermill": {
     "duration": 0.282262,
     "end_time": "2022-01-30T04:17:48.102287",
     "exception": false,
     "start_time": "2022-01-30T04:17:47.820025",
     "status": "completed"
    },
    "tags": []
   },
   "outputs": [],
   "source": [
    "from sklearn.ensemble import RandomForestRegressor\n",
    "from sklearn.metrics import mean_absolute_error\n",
    "\n",
    "# Function for comparing different approaches\n",
    "def score_dataset(X_train, X_valid, y_train, y_valid):\n",
    "    model = RandomForestRegressor(n_estimators=100, random_state=0)\n",
    "    model.fit(X_train, y_train)\n",
    "    preds = model.predict(X_valid)\n",
    "    return mean_absolute_error(y_valid, preds)"
   ]
  },
  {
   "cell_type": "markdown",
   "id": "ed66e7eb",
   "metadata": {
    "papermill": {
     "duration": 0.025982,
     "end_time": "2022-01-30T04:17:48.152366",
     "exception": false,
     "start_time": "2022-01-30T04:17:48.126384",
     "status": "completed"
    },
    "tags": []
   },
   "source": [
    "# Step 2: Drop columns with missing values\n",
    "\n",
    "In this step, you'll preprocess the data in `X_train` and `X_valid` to remove columns with missing values.  Set the preprocessed DataFrames to `reduced_X_train` and `reduced_X_valid`, respectively.  "
   ]
  },
  {
   "cell_type": "code",
   "execution_count": 10,
   "id": "02b98761",
   "metadata": {
    "execution": {
     "iopub.execute_input": "2022-01-30T04:17:48.208812Z",
     "iopub.status.busy": "2022-01-30T04:17:48.207869Z",
     "iopub.status.idle": "2022-01-30T04:17:48.234488Z",
     "shell.execute_reply": "2022-01-30T04:17:48.234913Z",
     "shell.execute_reply.started": "2022-01-30T04:16:47.006019Z"
    },
    "papermill": {
     "duration": 0.055177,
     "end_time": "2022-01-30T04:17:48.235111",
     "exception": false,
     "start_time": "2022-01-30T04:17:48.179934",
     "status": "completed"
    },
    "tags": []
   },
   "outputs": [
    {
     "data": {
      "application/javascript": [
       "parent.postMessage({\"jupyterEvent\": \"custom.exercise_interaction\", \"data\": {\"outcomeType\": 1, \"valueTowardsCompletion\": 1.0, \"interactionType\": 1, \"questionType\": 2, \"questionId\": \"2_DropMissing\", \"learnToolsVersion\": \"0.3.4\", \"failureMessage\": \"\", \"exceptionClass\": \"\", \"trace\": \"\"}}, \"*\")"
      ],
      "text/plain": [
       "<IPython.core.display.Javascript object>"
      ]
     },
     "metadata": {},
     "output_type": "display_data"
    },
    {
     "data": {
      "text/markdown": [
       "<span style=\"color:#33cc33\">Correct</span>"
      ],
      "text/plain": [
       "Correct"
      ]
     },
     "metadata": {},
     "output_type": "display_data"
    }
   ],
   "source": [
    "# Fill in the line below: get names of columns with missing values\n",
    "cols_with_missing = [col for col in X_train.columns\n",
    "                     if X_train[col].isnull().any()] # Your code here\n",
    "\n",
    "# Fill in the lines below: drop columns in training and validation data\n",
    "reduced_X_train = X_train.drop(cols_with_missing, axis=1)\n",
    "reduced_X_valid = X_valid.drop(cols_with_missing, axis=1)\n",
    "\n",
    "# Check your answers\n",
    "step_2.check()"
   ]
  },
  {
   "cell_type": "code",
   "execution_count": 11,
   "id": "0fb69615",
   "metadata": {
    "execution": {
     "iopub.execute_input": "2022-01-30T04:17:48.294944Z",
     "iopub.status.busy": "2022-01-30T04:17:48.294349Z",
     "iopub.status.idle": "2022-01-30T04:17:48.295973Z",
     "shell.execute_reply": "2022-01-30T04:17:48.296506Z",
     "shell.execute_reply.started": "2022-01-30T04:16:47.043890Z"
    },
    "papermill": {
     "duration": 0.033671,
     "end_time": "2022-01-30T04:17:48.296683",
     "exception": false,
     "start_time": "2022-01-30T04:17:48.263012",
     "status": "completed"
    },
    "tags": []
   },
   "outputs": [],
   "source": [
    "# Lines below will give you a hint or solution code\n",
    "#step_2.hint()\n",
    "#step_2.solution()"
   ]
  },
  {
   "cell_type": "markdown",
   "id": "d583fe87",
   "metadata": {
    "papermill": {
     "duration": 0.026417,
     "end_time": "2022-01-30T04:17:48.348443",
     "exception": false,
     "start_time": "2022-01-30T04:17:48.322026",
     "status": "completed"
    },
    "tags": []
   },
   "source": [
    "Run the next code cell without changes to obtain the MAE for this approach."
   ]
  },
  {
   "cell_type": "code",
   "execution_count": 12,
   "id": "edc08fcd",
   "metadata": {
    "execution": {
     "iopub.execute_input": "2022-01-30T04:17:48.402162Z",
     "iopub.status.busy": "2022-01-30T04:17:48.401540Z",
     "iopub.status.idle": "2022-01-30T04:17:49.664804Z",
     "shell.execute_reply": "2022-01-30T04:17:49.663965Z",
     "shell.execute_reply.started": "2022-01-30T04:16:47.056637Z"
    },
    "papermill": {
     "duration": 1.290582,
     "end_time": "2022-01-30T04:17:49.665002",
     "exception": false,
     "start_time": "2022-01-30T04:17:48.374420",
     "status": "completed"
    },
    "tags": []
   },
   "outputs": [
    {
     "name": "stdout",
     "output_type": "stream",
     "text": [
      "MAE (Drop columns with missing values):\n",
      "17837.82570776256\n"
     ]
    }
   ],
   "source": [
    "print(\"MAE (Drop columns with missing values):\")\n",
    "print(score_dataset(reduced_X_train, reduced_X_valid, y_train, y_valid))"
   ]
  },
  {
   "cell_type": "markdown",
   "id": "56560a82",
   "metadata": {
    "papermill": {
     "duration": 0.024642,
     "end_time": "2022-01-30T04:17:49.716562",
     "exception": false,
     "start_time": "2022-01-30T04:17:49.691920",
     "status": "completed"
    },
    "tags": []
   },
   "source": [
    "# Step 3: Imputation\n",
    "\n",
    "### Part A\n",
    "\n",
    "Use the next code cell to impute missing values with the mean value along each column.  Set the preprocessed DataFrames to `imputed_X_train` and `imputed_X_valid`.  Make sure that the column names match those in `X_train` and `X_valid`."
   ]
  },
  {
   "cell_type": "code",
   "execution_count": 13,
   "id": "d06907eb",
   "metadata": {
    "execution": {
     "iopub.execute_input": "2022-01-30T04:17:49.775600Z",
     "iopub.status.busy": "2022-01-30T04:17:49.774508Z",
     "iopub.status.idle": "2022-01-30T04:17:49.804992Z",
     "shell.execute_reply": "2022-01-30T04:17:49.804525Z",
     "shell.execute_reply.started": "2022-01-30T04:16:48.353299Z"
    },
    "papermill": {
     "duration": 0.062866,
     "end_time": "2022-01-30T04:17:49.805144",
     "exception": false,
     "start_time": "2022-01-30T04:17:49.742278",
     "status": "completed"
    },
    "tags": []
   },
   "outputs": [
    {
     "data": {
      "application/javascript": [
       "parent.postMessage({\"jupyterEvent\": \"custom.exercise_interaction\", \"data\": {\"outcomeType\": 1, \"valueTowardsCompletion\": 1.0, \"interactionType\": 1, \"questionType\": 2, \"questionId\": \"3.1_ImputeCode\", \"learnToolsVersion\": \"0.3.4\", \"failureMessage\": \"\", \"exceptionClass\": \"\", \"trace\": \"\"}}, \"*\")"
      ],
      "text/plain": [
       "<IPython.core.display.Javascript object>"
      ]
     },
     "metadata": {},
     "output_type": "display_data"
    },
    {
     "data": {
      "text/markdown": [
       "<span style=\"color:#33cc33\">Correct</span>"
      ],
      "text/plain": [
       "Correct"
      ]
     },
     "metadata": {},
     "output_type": "display_data"
    }
   ],
   "source": [
    "from sklearn.impute import SimpleImputer\n",
    "\n",
    "# Fill in the lines below: imputation\n",
    "my_imputer = SimpleImputer() # Your code here\n",
    "imputed_X_train = pd.DataFrame(my_imputer.fit_transform(X_train))\n",
    "imputed_X_valid = pd.DataFrame(my_imputer.transform(X_valid))\n",
    "\n",
    "# Fill in the lines below: imputation removed column names; put them back\n",
    "imputed_X_train.columns = X_train.columns\n",
    "imputed_X_valid.columns = X_valid.columns\n",
    "\n",
    "# Check your answers\n",
    "step_3.a.check()"
   ]
  },
  {
   "cell_type": "code",
   "execution_count": 14,
   "id": "1078839f",
   "metadata": {
    "execution": {
     "iopub.execute_input": "2022-01-30T04:17:49.862766Z",
     "iopub.status.busy": "2022-01-30T04:17:49.862117Z",
     "iopub.status.idle": "2022-01-30T04:17:49.865027Z",
     "shell.execute_reply": "2022-01-30T04:17:49.865868Z",
     "shell.execute_reply.started": "2022-01-30T04:16:48.392665Z"
    },
    "papermill": {
     "duration": 0.034716,
     "end_time": "2022-01-30T04:17:49.866117",
     "exception": false,
     "start_time": "2022-01-30T04:17:49.831401",
     "status": "completed"
    },
    "tags": []
   },
   "outputs": [],
   "source": [
    "# Lines below will give you a hint or solution code\n",
    "#step_3.a.hint()\n",
    "#step_3.a.solution()"
   ]
  },
  {
   "cell_type": "markdown",
   "id": "b5c55573",
   "metadata": {
    "papermill": {
     "duration": 0.026635,
     "end_time": "2022-01-30T04:17:49.922508",
     "exception": false,
     "start_time": "2022-01-30T04:17:49.895873",
     "status": "completed"
    },
    "tags": []
   },
   "source": [
    "Run the next code cell without changes to obtain the MAE for this approach."
   ]
  },
  {
   "cell_type": "code",
   "execution_count": 15,
   "id": "6d48dc4f",
   "metadata": {
    "execution": {
     "iopub.execute_input": "2022-01-30T04:17:49.987042Z",
     "iopub.status.busy": "2022-01-30T04:17:49.986380Z",
     "iopub.status.idle": "2022-01-30T04:17:51.377457Z",
     "shell.execute_reply": "2022-01-30T04:17:51.377987Z",
     "shell.execute_reply.started": "2022-01-30T04:16:48.398552Z"
    },
    "papermill": {
     "duration": 1.428098,
     "end_time": "2022-01-30T04:17:51.378255",
     "exception": false,
     "start_time": "2022-01-30T04:17:49.950157",
     "status": "completed"
    },
    "tags": []
   },
   "outputs": [
    {
     "name": "stdout",
     "output_type": "stream",
     "text": [
      "MAE (Imputation):\n",
      "18062.894611872147\n"
     ]
    }
   ],
   "source": [
    "print(\"MAE (Imputation):\")\n",
    "print(score_dataset(imputed_X_train, imputed_X_valid, y_train, y_valid))"
   ]
  },
  {
   "cell_type": "markdown",
   "id": "6e268374",
   "metadata": {
    "papermill": {
     "duration": 0.027715,
     "end_time": "2022-01-30T04:17:51.434127",
     "exception": false,
     "start_time": "2022-01-30T04:17:51.406412",
     "status": "completed"
    },
    "tags": []
   },
   "source": [
    "### Part B\n",
    "\n",
    "Compare the MAE from each approach.  Does anything surprise you about the results?  Why do you think one approach performed better than the other?"
   ]
  },
  {
   "cell_type": "code",
   "execution_count": 16,
   "id": "82dd3127",
   "metadata": {
    "execution": {
     "iopub.execute_input": "2022-01-30T04:17:51.495398Z",
     "iopub.status.busy": "2022-01-30T04:17:51.494708Z",
     "iopub.status.idle": "2022-01-30T04:17:51.500687Z",
     "shell.execute_reply": "2022-01-30T04:17:51.501275Z",
     "shell.execute_reply.started": "2022-01-30T04:16:49.773078Z"
    },
    "papermill": {
     "duration": 0.038244,
     "end_time": "2022-01-30T04:17:51.501441",
     "exception": false,
     "start_time": "2022-01-30T04:17:51.463197",
     "status": "completed"
    },
    "tags": []
   },
   "outputs": [
    {
     "data": {
      "application/javascript": [
       "parent.postMessage({\"jupyterEvent\": \"custom.exercise_interaction\", \"data\": {\"outcomeType\": 1, \"valueTowardsCompletion\": 1.0, \"interactionType\": 1, \"questionType\": 4, \"questionId\": \"3.2_ImputeThought\", \"learnToolsVersion\": \"0.3.4\", \"failureMessage\": \"\", \"exceptionClass\": \"\", \"trace\": \"\"}}, \"*\")"
      ],
      "text/plain": [
       "<IPython.core.display.Javascript object>"
      ]
     },
     "metadata": {},
     "output_type": "display_data"
    },
    {
     "data": {
      "text/markdown": [
       "<span style=\"color:#33cc33\">Correct:</span> \n",
       "\n",
       "Given that thre are so few missing values in the dataset, we'd expect imputation to perform better than dropping columns entirely.  However, we see that dropping columns performs slightly better!  While this can probably partially be attributed to noise in the dataset, another potential explanation is that the imputation method is not a great match to this dataset.  That is, maybe instead of filling in the mean value, it makes more sense to set every missing value to a value of 0, to fill in the most frequently encountered value, or to use some other method.  For instance, consider the `GarageYrBlt` column (which indicates the year that the garage was built).  It's likely that in some cases, a missing value could indicate a house that does not have a garage.  Does it make more sense to fill in the median value along each column in this case?  Or could we get better results by filling in the minimum value along each column?  It's not quite clear what's best in this case, but perhaps we can rule out some options immediately - for instance, setting missing values in this column to 0 is likely to yield horrible results!"
      ],
      "text/plain": [
       "Correct: \n",
       "\n",
       "Given that thre are so few missing values in the dataset, we'd expect imputation to perform better than dropping columns entirely.  However, we see that dropping columns performs slightly better!  While this can probably partially be attributed to noise in the dataset, another potential explanation is that the imputation method is not a great match to this dataset.  That is, maybe instead of filling in the mean value, it makes more sense to set every missing value to a value of 0, to fill in the most frequently encountered value, or to use some other method.  For instance, consider the `GarageYrBlt` column (which indicates the year that the garage was built).  It's likely that in some cases, a missing value could indicate a house that does not have a garage.  Does it make more sense to fill in the median value along each column in this case?  Or could we get better results by filling in the minimum value along each column?  It's not quite clear what's best in this case, but perhaps we can rule out some options immediately - for instance, setting missing values in this column to 0 is likely to yield horrible results!"
      ]
     },
     "metadata": {},
     "output_type": "display_data"
    }
   ],
   "source": [
    "# Check your answer (Run this code cell to receive credit!)\n",
    "step_3.b.check()"
   ]
  },
  {
   "cell_type": "code",
   "execution_count": 17,
   "id": "32219073",
   "metadata": {
    "execution": {
     "iopub.execute_input": "2022-01-30T04:17:51.560853Z",
     "iopub.status.busy": "2022-01-30T04:17:51.560264Z",
     "iopub.status.idle": "2022-01-30T04:17:51.563296Z",
     "shell.execute_reply": "2022-01-30T04:17:51.563772Z",
     "shell.execute_reply.started": "2022-01-30T04:16:49.783802Z"
    },
    "papermill": {
     "duration": 0.035029,
     "end_time": "2022-01-30T04:17:51.563935",
     "exception": false,
     "start_time": "2022-01-30T04:17:51.528906",
     "status": "completed"
    },
    "tags": []
   },
   "outputs": [],
   "source": [
    "#step_3.b.hint()"
   ]
  },
  {
   "cell_type": "markdown",
   "id": "714a9255",
   "metadata": {
    "papermill": {
     "duration": 0.027187,
     "end_time": "2022-01-30T04:17:51.621004",
     "exception": false,
     "start_time": "2022-01-30T04:17:51.593817",
     "status": "completed"
    },
    "tags": []
   },
   "source": [
    "# Step 4: Generate test predictions\n",
    "\n",
    "In this final step, you'll use any approach of your choosing to deal with missing values.  Once you've preprocessed the training and validation features, you'll train and evaluate a random forest model.  Then, you'll preprocess the test data before generating predictions that can be submitted to the competition!\n",
    "\n",
    "### Part A\n",
    "\n",
    "Use the next code cell to preprocess the training and validation data.  Set the preprocessed DataFrames to `final_X_train` and `final_X_valid`.  **You can use any approach of your choosing here!**  in order for this step to be marked as correct, you need only ensure:\n",
    "- the preprocessed DataFrames have the same number of columns,\n",
    "- the preprocessed DataFrames have no missing values, \n",
    "- `final_X_train` and `y_train` have the same number of rows, and\n",
    "- `final_X_valid` and `y_valid` have the same number of rows."
   ]
  },
  {
   "cell_type": "code",
   "execution_count": 18,
   "id": "716616ff",
   "metadata": {
    "execution": {
     "iopub.execute_input": "2022-01-30T04:17:51.685035Z",
     "iopub.status.busy": "2022-01-30T04:17:51.684375Z",
     "iopub.status.idle": "2022-01-30T04:17:51.716850Z",
     "shell.execute_reply": "2022-01-30T04:17:51.717373Z",
     "shell.execute_reply.started": "2022-01-30T04:16:49.796076Z"
    },
    "papermill": {
     "duration": 0.065641,
     "end_time": "2022-01-30T04:17:51.717561",
     "exception": false,
     "start_time": "2022-01-30T04:17:51.651920",
     "status": "completed"
    },
    "tags": []
   },
   "outputs": [
    {
     "data": {
      "application/javascript": [
       "parent.postMessage({\"jupyterEvent\": \"custom.exercise_interaction\", \"data\": {\"outcomeType\": 1, \"valueTowardsCompletion\": 1.0, \"interactionType\": 1, \"questionType\": 2, \"questionId\": \"4.1_PredsCodeA\", \"learnToolsVersion\": \"0.3.4\", \"failureMessage\": \"\", \"exceptionClass\": \"\", \"trace\": \"\"}}, \"*\")"
      ],
      "text/plain": [
       "<IPython.core.display.Javascript object>"
      ]
     },
     "metadata": {},
     "output_type": "display_data"
    },
    {
     "data": {
      "text/markdown": [
       "<span style=\"color:#33cc33\">Correct</span>"
      ],
      "text/plain": [
       "Correct"
      ]
     },
     "metadata": {},
     "output_type": "display_data"
    }
   ],
   "source": [
    "# Preprocessed training and validation features\n",
    "final_X_train = X_train.copy()\n",
    "final_X_valid = X_valid.copy()\n",
    "\n",
    "for col in cols_with_missing:\n",
    "    final_X_train[col + '_was_missing'] = final_X_train[col].isnull()\n",
    "    final_X_valid[col + '_was_missing'] = final_X_valid[col].isnull()\n",
    "\n",
    "\n",
    "final_imputer = SimpleImputer(strategy='median')\n",
    "final_X_train = pd.DataFrame(final_imputer.fit_transform(X_train))\n",
    "final_X_valid = pd.DataFrame(final_imputer.transform(X_valid))\n",
    "\n",
    "final_X_train.columns  = X_train.columns\n",
    "final_X_valid.columns = X_valid.columns\n",
    "\n",
    "# Check your answers\n",
    "step_4.a.check()"
   ]
  },
  {
   "cell_type": "code",
   "execution_count": 19,
   "id": "2956e299",
   "metadata": {
    "execution": {
     "iopub.execute_input": "2022-01-30T04:17:51.783244Z",
     "iopub.status.busy": "2022-01-30T04:17:51.781839Z",
     "iopub.status.idle": "2022-01-30T04:17:51.786162Z",
     "shell.execute_reply": "2022-01-30T04:17:51.785657Z",
     "shell.execute_reply.started": "2022-01-30T04:16:49.839729Z"
    },
    "papermill": {
     "duration": 0.039927,
     "end_time": "2022-01-30T04:17:51.786320",
     "exception": false,
     "start_time": "2022-01-30T04:17:51.746393",
     "status": "completed"
    },
    "tags": []
   },
   "outputs": [],
   "source": [
    "# Lines below will give you a hint or solution code\n",
    "#step_4.a.hint()\n",
    "#step_4.a.solution()"
   ]
  },
  {
   "cell_type": "markdown",
   "id": "e647dcd1",
   "metadata": {
    "papermill": {
     "duration": 0.027444,
     "end_time": "2022-01-30T04:17:51.841897",
     "exception": false,
     "start_time": "2022-01-30T04:17:51.814453",
     "status": "completed"
    },
    "tags": []
   },
   "source": [
    "Run the next code cell to train and evaluate a random forest model.  (*Note that we don't use the `score_dataset()` function above, because we will soon use the trained model to generate test predictions!*)"
   ]
  },
  {
   "cell_type": "code",
   "execution_count": 20,
   "id": "4a7182d1",
   "metadata": {
    "execution": {
     "iopub.execute_input": "2022-01-30T04:17:51.903810Z",
     "iopub.status.busy": "2022-01-30T04:17:51.903212Z",
     "iopub.status.idle": "2022-01-30T04:17:53.248651Z",
     "shell.execute_reply": "2022-01-30T04:17:53.249434Z",
     "shell.execute_reply.started": "2022-01-30T04:16:49.844562Z"
    },
    "papermill": {
     "duration": 1.376976,
     "end_time": "2022-01-30T04:17:53.249717",
     "exception": false,
     "start_time": "2022-01-30T04:17:51.872741",
     "status": "completed"
    },
    "tags": []
   },
   "outputs": [
    {
     "name": "stdout",
     "output_type": "stream",
     "text": [
      "MAE (Your approach):\n",
      "17791.59899543379\n"
     ]
    }
   ],
   "source": [
    "# Define and fit model\n",
    "model = RandomForestRegressor(n_estimators=100, random_state=0)\n",
    "model.fit(final_X_train, y_train)\n",
    "\n",
    "# Get validation predictions and MAE\n",
    "preds_valid = model.predict(final_X_valid)\n",
    "print(\"MAE (Your approach):\")\n",
    "print(mean_absolute_error(y_valid, preds_valid))"
   ]
  },
  {
   "cell_type": "markdown",
   "id": "b394af7b",
   "metadata": {
    "papermill": {
     "duration": 0.027881,
     "end_time": "2022-01-30T04:17:53.310667",
     "exception": false,
     "start_time": "2022-01-30T04:17:53.282786",
     "status": "completed"
    },
    "tags": []
   },
   "source": [
    "### Part B\n",
    "\n",
    "Use the next code cell to preprocess your test data.  Make sure that you use a method that agrees with how you preprocessed the training and validation data, and set the preprocessed test features to `final_X_test`.\n",
    "\n",
    "Then, use the preprocessed test features and the trained model to generate test predictions in `preds_test`.\n",
    "\n",
    "In order for this step to be marked correct, you need only ensure:\n",
    "- the preprocessed test DataFrame has no missing values, and\n",
    "- `final_X_test` has the same number of rows as `X_test`."
   ]
  },
  {
   "cell_type": "code",
   "execution_count": 21,
   "id": "f875e949",
   "metadata": {
    "execution": {
     "iopub.execute_input": "2022-01-30T04:17:53.383201Z",
     "iopub.status.busy": "2022-01-30T04:17:53.381647Z",
     "iopub.status.idle": "2022-01-30T04:17:53.429352Z",
     "shell.execute_reply": "2022-01-30T04:17:53.429817Z",
     "shell.execute_reply.started": "2022-01-30T04:16:51.222716Z"
    },
    "papermill": {
     "duration": 0.088807,
     "end_time": "2022-01-30T04:17:53.430031",
     "exception": false,
     "start_time": "2022-01-30T04:17:53.341224",
     "status": "completed"
    },
    "tags": []
   },
   "outputs": [
    {
     "data": {
      "application/javascript": [
       "parent.postMessage({\"jupyterEvent\": \"custom.exercise_interaction\", \"data\": {\"outcomeType\": 1, \"valueTowardsCompletion\": 1.0, \"interactionType\": 1, \"questionType\": 2, \"questionId\": \"4.2_PredsCodeB\", \"learnToolsVersion\": \"0.3.4\", \"failureMessage\": \"\", \"exceptionClass\": \"\", \"trace\": \"\"}}, \"*\")"
      ],
      "text/plain": [
       "<IPython.core.display.Javascript object>"
      ]
     },
     "metadata": {},
     "output_type": "display_data"
    },
    {
     "data": {
      "text/markdown": [
       "<span style=\"color:#33cc33\">Correct</span>"
      ],
      "text/plain": [
       "Correct"
      ]
     },
     "metadata": {},
     "output_type": "display_data"
    }
   ],
   "source": [
    "# Fill in the line below: preprocess test data\n",
    "final_X_test = pd.DataFrame(final_imputer.transform(X_test))\n",
    "\n",
    "# Fill in the line below: get test predictions\n",
    "preds_test =  model.predict(final_X_test)\n",
    "\n",
    "# Check your answers\n",
    "step_4.b.check()"
   ]
  },
  {
   "cell_type": "code",
   "execution_count": 22,
   "id": "1d8cea8e",
   "metadata": {
    "execution": {
     "iopub.execute_input": "2022-01-30T04:17:53.498730Z",
     "iopub.status.busy": "2022-01-30T04:17:53.497924Z",
     "iopub.status.idle": "2022-01-30T04:17:53.502257Z",
     "shell.execute_reply": "2022-01-30T04:17:53.502784Z",
     "shell.execute_reply.started": "2022-01-30T04:16:51.278495Z"
    },
    "papermill": {
     "duration": 0.042222,
     "end_time": "2022-01-30T04:17:53.502981",
     "exception": false,
     "start_time": "2022-01-30T04:17:53.460759",
     "status": "completed"
    },
    "tags": []
   },
   "outputs": [],
   "source": [
    "# Lines below will give you a hint or solution code\n",
    "#step_4.b.hint()\n",
    "#step_4.b.solution()"
   ]
  },
  {
   "cell_type": "markdown",
   "id": "ec527d93",
   "metadata": {
    "papermill": {
     "duration": 0.030679,
     "end_time": "2022-01-30T04:17:53.564991",
     "exception": false,
     "start_time": "2022-01-30T04:17:53.534312",
     "status": "completed"
    },
    "tags": []
   },
   "source": [
    "Run the next code cell without changes to save your results to a CSV file that can be submitted directly to the competition."
   ]
  },
  {
   "cell_type": "code",
   "execution_count": 23,
   "id": "6df6d419",
   "metadata": {
    "execution": {
     "iopub.execute_input": "2022-01-30T04:17:53.638279Z",
     "iopub.status.busy": "2022-01-30T04:17:53.637330Z",
     "iopub.status.idle": "2022-01-30T04:17:53.647887Z",
     "shell.execute_reply": "2022-01-30T04:17:53.648444Z",
     "shell.execute_reply.started": "2022-01-30T04:16:51.285924Z"
    },
    "papermill": {
     "duration": 0.051226,
     "end_time": "2022-01-30T04:17:53.648636",
     "exception": false,
     "start_time": "2022-01-30T04:17:53.597410",
     "status": "completed"
    },
    "tags": []
   },
   "outputs": [],
   "source": [
    "# Save test predictions to file\n",
    "output = pd.DataFrame({'Id': X_test.index,\n",
    "                       'SalePrice': preds_test})\n",
    "output.to_csv('submission.csv', index=False)"
   ]
  },
  {
   "cell_type": "markdown",
   "id": "74be5f1f",
   "metadata": {
    "papermill": {
     "duration": 0.032159,
     "end_time": "2022-01-30T04:17:53.713356",
     "exception": false,
     "start_time": "2022-01-30T04:17:53.681197",
     "status": "completed"
    },
    "tags": []
   },
   "source": [
    "# Submit your results\n",
    "\n",
    "Once you have successfully completed Step 4, you're ready to submit your results to the leaderboard!  (_You also learned how to do this in the previous exercise.  If you need a reminder of how to do this, please use the instructions below._)  \n",
    "\n",
    "First, you'll need to join the competition if you haven't already.  So open a new window by clicking on [this link](https://www.kaggle.com/c/home-data-for-ml-course).  Then click on the **Join Competition** button.\n",
    "\n",
    "![join competition image](https://i.imgur.com/wLmFtH3.png)\n",
    "\n",
    "Next, follow the instructions below:\n",
    "1. Begin by clicking on the blue **Save Version** button in the top right corner of the window.  This will generate a pop-up window.  \n",
    "2. Ensure that the **Save and Run All** option is selected, and then click on the blue **Save** button.\n",
    "3. This generates a window in the bottom left corner of the notebook.  After it has finished running, click on the number to the right of the **Save Version** button.  This pulls up a list of versions on the right of the screen.  Click on the ellipsis **(...)** to the right of the most recent version, and select **Open in Viewer**.  This brings you into view mode of the same page. You will need to scroll down to get back to these instructions.\n",
    "4. Click on the **Output** tab on the right of the screen.  Then, click on the file you would like to submit, and click on the blue **Submit** button to submit your results to the leaderboard.\n",
    "\n",
    "You have now successfully submitted to the competition!\n",
    "\n",
    "If you want to keep working to improve your performance, select the blue **Edit** button in the top right of the screen. Then you can change your code and repeat the process. There's a lot of room to improve, and you will climb up the leaderboard as you work.\n",
    "\n",
    "\n",
    "# Keep going\n",
    "\n",
    "Move on to learn what **[categorical variables](https://www.kaggle.com/alexisbcook/categorical-variables)** are, along with how to incorporate them into your machine learning models.  Categorical variables are very common in real-world data, but you'll get an error if you try to plug them into your models without processing them first!"
   ]
  },
  {
   "cell_type": "markdown",
   "id": "f456218f",
   "metadata": {
    "papermill": {
     "duration": 0.032673,
     "end_time": "2022-01-30T04:17:53.778435",
     "exception": false,
     "start_time": "2022-01-30T04:17:53.745762",
     "status": "completed"
    },
    "tags": []
   },
   "source": [
    "---\n",
    "\n",
    "\n",
    "\n",
    "\n",
    "*Have questions or comments? Visit the [Learn Discussion forum](https://www.kaggle.com/learn-forum/161289) to chat with other Learners.*"
   ]
  }
 ],
 "metadata": {
  "kernelspec": {
   "display_name": "Python 3",
   "language": "python",
   "name": "python3"
  },
  "language_info": {
   "codemirror_mode": {
    "name": "ipython",
    "version": 3
   },
   "file_extension": ".py",
   "mimetype": "text/x-python",
   "name": "python",
   "nbconvert_exporter": "python",
   "pygments_lexer": "ipython3",
   "version": "3.7.12"
  },
  "papermill": {
   "default_parameters": {},
   "duration": 20.21561,
   "end_time": "2022-01-30T04:17:54.725559",
   "environment_variables": {},
   "exception": null,
   "input_path": "__notebook__.ipynb",
   "output_path": "__notebook__.ipynb",
   "parameters": {},
   "start_time": "2022-01-30T04:17:34.509949",
   "version": "2.3.3"
  }
 },
 "nbformat": 4,
 "nbformat_minor": 5
}
